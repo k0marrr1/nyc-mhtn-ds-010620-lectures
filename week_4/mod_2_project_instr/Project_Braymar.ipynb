{
 "cells": [
  {
   "cell_type": "code",
   "execution_count": 6,
   "metadata": {},
   "outputs": [],
   "source": [
    "import pandas as pd  # for data array handling\n",
    "from bs4 import BeautifulSoup # for website parsing and scraping (rotten tomatoes)\n",
    "import requests  # for http access\n",
    "import re  # for regular expressions\n",
    "import matplotlib.pyplot as plt  # for plotting\n",
    "from matplotlib.offsetbox import (OffsetImage, AnnotationBbox)"
   ]
  },
  {
   "cell_type": "code",
   "execution_count": null,
   "metadata": {},
   "outputs": [],
   "source": []
  }
 ],
 "metadata": {
  "kernelspec": {
   "display_name": "Python 3",
   "language": "python",
   "name": "python3"
  },
  "language_info": {
   "codemirror_mode": {
    "name": "ipython",
    "version": 3
   },
   "file_extension": ".py",
   "mimetype": "text/x-python",
   "name": "python",
   "nbconvert_exporter": "python",
   "pygments_lexer": "ipython3",
   "version": "3.6.9"
  }
 },
 "nbformat": 4,
 "nbformat_minor": 2
}

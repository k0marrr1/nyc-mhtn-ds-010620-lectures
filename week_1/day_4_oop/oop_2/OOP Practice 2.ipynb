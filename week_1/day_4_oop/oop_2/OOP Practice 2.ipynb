{
 "cells": [
  {
   "cell_type": "markdown",
   "metadata": {},
   "source": [
    "## More OOP Practice!\n",
    "\n",
    "Learning goals:\n",
    "- Practice creating classes and instance objects\n",
    "- Understand the distinction between classes and instance objects\n",
    "- Understand the difference between class attributes and instance attributes"
   ]
  },
  {
   "cell_type": "markdown",
   "metadata": {},
   "source": [
    "![mayes](dog.jpeg)"
   ]
  },
  {
   "cell_type": "markdown",
   "metadata": {},
   "source": [
    "### Let's define a Dog class"
   ]
  },
  {
   "cell_type": "code",
   "execution_count": 28,
   "metadata": {},
   "outputs": [],
   "source": [
    "class Dog():\n",
    "    def __init__(self, name, age):\n",
    "        self.name = name\n",
    "        self.age = age\n",
    "        self.species = 'Mammel'\n",
    "    def speak(self, sound):\n",
    "        print (f\"{self.name} says {sound}\")\n",
    "    def description(self):\n",
    "        print (f\"{self.name} is {self.age} years old\")\n",
    "        "
   ]
  },
  {
   "cell_type": "markdown",
   "metadata": {},
   "source": [
    "#### Create an instance of the Dog class and assign it to a variable. Check the type of that variable."
   ]
  },
  {
   "cell_type": "code",
   "execution_count": 29,
   "metadata": {},
   "outputs": [
    {
     "name": "stdout",
     "output_type": "stream",
     "text": [
      "Archie\n",
      "2\n",
      "Mammel\n"
     ]
    }
   ],
   "source": [
    "Cattle_dog = Dog('Archie', 2)\n",
    "print (Cattle_dog.name)\n",
    "print (Cattle_dog.age)\n",
    "print (Cattle_dog.species)"
   ]
  },
  {
   "cell_type": "code",
   "execution_count": 30,
   "metadata": {},
   "outputs": [
    {
     "data": {
      "text/plain": [
       "__main__.Dog"
      ]
     },
     "execution_count": 30,
     "metadata": {},
     "output_type": "execute_result"
    }
   ],
   "source": [
    "type(Cattle_dog)"
   ]
  },
  {
   "cell_type": "markdown",
   "metadata": {},
   "source": [
    "#### Add an initialization function so that every instance of the Dog class has a name and an age associated with it"
   ]
  },
  {
   "cell_type": "code",
   "execution_count": 31,
   "metadata": {},
   "outputs": [
    {
     "name": "stdout",
     "output_type": "stream",
     "text": [
      "Buddy\n",
      "9\n",
      "Mammel\n"
     ]
    }
   ],
   "source": [
    "lab = Dog(\"Buddy\", 9)\n",
    "print (lab.name)\n",
    "print (lab.age)\n",
    "print (lab.species)"
   ]
  },
  {
   "cell_type": "code",
   "execution_count": 32,
   "metadata": {},
   "outputs": [
    {
     "name": "stdout",
     "output_type": "stream",
     "text": [
      "Archie says woof\n"
     ]
    }
   ],
   "source": [
    "Cattle_dog.speak('woof')"
   ]
  },
  {
   "cell_type": "markdown",
   "metadata": {},
   "source": [
    "#### Every dog might have a different name and/or age, but all dogs are mammals! \n",
    "\n",
    "Add a class attribute called species so that every instance of Dog is a 'mammal'."
   ]
  },
  {
   "cell_type": "code",
   "execution_count": 33,
   "metadata": {},
   "outputs": [
    {
     "name": "stdout",
     "output_type": "stream",
     "text": [
      "Archie is 2 years old\n"
     ]
    }
   ],
   "source": [
    "Cattle_dog.description()"
   ]
  },
  {
   "cell_type": "markdown",
   "metadata": {},
   "source": [
    "#### Create two separate instances of Dog, and assign them to variables.\n",
    "Print \"{name of dog1} is {age of dog 1} and {name of dog2} is {age of dog 2}\""
   ]
  },
  {
   "cell_type": "code",
   "execution_count": null,
   "metadata": {},
   "outputs": [],
   "source": []
  },
  {
   "cell_type": "markdown",
   "metadata": {},
   "source": [
    "#### Check the species of these dogs!"
   ]
  },
  {
   "cell_type": "code",
   "execution_count": null,
   "metadata": {},
   "outputs": [],
   "source": []
  },
  {
   "cell_type": "markdown",
   "metadata": {},
   "source": [
    "#### Dogs make sounds too, like barking! \n",
    "Add an instance method to the Dog class called speak, that accepts a sound and prints out, \n",
    "\"{name of dog} says {sound passed into the method}\""
   ]
  },
  {
   "cell_type": "code",
   "execution_count": null,
   "metadata": {},
   "outputs": [],
   "source": []
  },
  {
   "cell_type": "markdown",
   "metadata": {},
   "source": [
    "#### Add an instance method called description that prints out:\n",
    "\"{dog name} is {dog age} years old\""
   ]
  },
  {
   "cell_type": "code",
   "execution_count": null,
   "metadata": {},
   "outputs": [],
   "source": []
  },
  {
   "cell_type": "markdown",
   "metadata": {},
   "source": [
    "#### Create a new instance of the Dog class and assign it to a variable.\n",
    "Use the description and speak instance methods to display information about the dog."
   ]
  },
  {
   "cell_type": "code",
   "execution_count": 34,
   "metadata": {},
   "outputs": [],
   "source": [
    "Chunk = Dog(\"Chunk\", 6)"
   ]
  },
  {
   "cell_type": "code",
   "execution_count": 37,
   "metadata": {},
   "outputs": [
    {
     "name": "stdout",
     "output_type": "stream",
     "text": [
      "Chunk\n",
      "6\n",
      "Chunk is 6 years old\n",
      "Chunk says Woof\n"
     ]
    }
   ],
   "source": [
    "print(Chunk.name)\n",
    "print(Chunk.age)\n",
    "Chunk.description()\n",
    "Chunk.speak('Woof')"
   ]
  },
  {
   "cell_type": "markdown",
   "metadata": {},
   "source": [
    "## Your Turn:\n",
    "#### Now you are going to work with a partner to create a class. \n",
    "#### Your class will construct a descriptive statistics calculator using our functions from our previous lecture. Your class should have the following attributes:\n",
    "\n",
    "- .data - where you will hold your data\n",
    "- .length - that tells you the length of your data list\n",
    "- .mean\n",
    "- .median\n",
    "- .variance\n",
    "- .stand_dev\n",
    "\n",
    "#### Your class should have the following methods:\n",
    "\n",
    "- .add_data() - which can take in a value or a list of values and extend the .data attribute\n",
    "- .remove_data() accept a list of numbers and remove any of the numbers in that list from your object data\n"
   ]
  },
  {
   "cell_type": "code",
   "execution_count": 3,
   "metadata": {},
   "outputs": [],
   "source": [
    "class Calculator:\n",
    "    def __init__(self, nums):\n",
    "        self.data = nums\n",
    "        self.calc_stats() \n",
    "    def get_median(self):\n",
    "        n = len(self.sorted_data)\n",
    "        if (n%2 == 0):\n",
    "            return (((self.sorted_data[n//2]) + (self.sorted_data[n//2 - 1]))/2)\n",
    "        else:\n",
    "            return self.sorted_data[len(self.sorted_data)//2]\n",
    "    def get_variance(self):\n",
    "        list_of_diffs = [(x - self.mean)**2 for x in self.data]\n",
    "        return sum(list_of_diffs)/(len(self.data) - 1)\n",
    "    def get_stand_dev(self):\n",
    "        self.variance = self.get_variance()\n",
    "        std_dev = ((self.variance)**(.5))\n",
    "        return std_dev\n",
    "    def calc_stats(self):\n",
    "        self.length = len(self.data)\n",
    "        self.mean = sum(self.data)/len(self.data)\n",
    "        self.sorted_data = sorted(self.data)\n",
    "        self.median = self.get_median()\n",
    "        self.variance = self.get_variance()\n",
    "        self.stand_dev = self.get_stand_dev()\n",
    "    def add_data(self, new_nums):\n",
    "        self.data.extend(new_nums)\n",
    "        self.calc_stats()\n",
    "    def remove_data(self, new_nums):\n",
    "        for item in new_nums:\n",
    "            if item in self.data:\n",
    "                self.data.remove(item)\n",
    "        self.calc_stats()"
   ]
  },
  {
   "cell_type": "code",
   "execution_count": null,
   "metadata": {},
   "outputs": [],
   "source": []
  },
  {
   "cell_type": "code",
   "execution_count": null,
   "metadata": {},
   "outputs": [],
   "source": []
  },
  {
   "cell_type": "code",
   "execution_count": null,
   "metadata": {},
   "outputs": [],
   "source": []
  },
  {
   "cell_type": "code",
   "execution_count": null,
   "metadata": {},
   "outputs": [],
   "source": []
  },
  {
   "cell_type": "code",
   "execution_count": null,
   "metadata": {},
   "outputs": [],
   "source": []
  }
 ],
 "metadata": {
  "kernelspec": {
   "display_name": "Python 3",
   "language": "python",
   "name": "python3"
  },
  "language_info": {
   "codemirror_mode": {
    "name": "ipython",
    "version": 3
   },
   "file_extension": ".py",
   "mimetype": "text/x-python",
   "name": "python",
   "nbconvert_exporter": "python",
   "pygments_lexer": "ipython3",
   "version": "3.6.9"
  }
 },
 "nbformat": 4,
 "nbformat_minor": 2
}

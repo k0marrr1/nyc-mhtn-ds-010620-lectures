{
 "cells": [
  {
   "cell_type": "markdown",
   "metadata": {},
   "source": [
    "# Yelp API - Lab\n",
    "\n",
    "\n",
    "\n",
    "## Introduction \n",
    "\n",
    "Now that we've seen how the Yelp API works, it's time to put those API and SQL skills to work in order to do some basic business analysis! Taking things a step further, you'll also independently explore how to perform pagination in order to retrieve a full results set from the Yelp API!\n",
    "\n",
    "## Objectives\n",
    "\n",
    "You will be able to:\n",
    "* Create a DB on AWS to store information from Yelp about businesses\n",
    "* Create HTTP requests to get data from Yelp API\n",
    "* Parse HTTP responses and insert the information into your DB\n",
    "* Perform pagination to retrieve troves of data!\n",
    "* Write SQL queries to answer questions about your data "
   ]
  },
  {
   "cell_type": "markdown",
   "metadata": {},
   "source": [
    "## Problem Introduction\n",
    "\n",
    "For this lab you will analyze the yelp data for a group of businesses to learn more about an industry. You will choose a type of business (Italian Restuarants, Nail Salons, Crossfit gyms) and a location to analyze. Then you will get data from the Yelp API, store that data in a SQL Database on AWS, and write queries to answer questions about the data. \n",
    "\n",
    "\n",
    "### Process:\n",
    "\n",
    "1. Read through the SQL questions and the API documentation to determine which pieces of information you need to pull from the Yelp API.\n",
    "\n",
    "2. Create a DB schema with 2 tables. One for the businesses and one for the reviews.\n",
    "\n",
    "3. Create code to:\n",
    "  - Perform a search of businesses using pagination\n",
    "  - Parse the API response for specific data points\n",
    "  - Insert the data into your AWS DB\n",
    "\n",
    "4. Use the functions above in a loop that will paginate over the results to retrieve all of the results. \n",
    "\n",
    "5. Create functions to:\n",
    "  - Retrieve the reviews data of one business\n",
    "  - Parse the reviews response for specific review data\n",
    "  - Insert the review data into the DB\n",
    "\n",
    "6. Using SQL, query all of the business IDs. Using the 3 Python functions you've created, run your business IDs through a loop to get the reviews for each business and insert them into your DB.\n",
    "\n",
    "7. Write SQL queries to answer the following questions about your data.\n",
    "\n",
    "\n",
    "Bonus Steps:  \n",
    "- Place your helper functions in a package so that your final notebook only has the major steps listed.\n",
    "- Rewrite your business search functions to be able take an argument for the type of business you are searching for.\n",
    "- Add another group of businesses to your database.\n"
   ]
  },
  {
   "cell_type": "markdown",
   "metadata": {},
   "source": [
    " \n",
    "## SQL Questions:\n",
    "\n",
    "- Which are the 5 most reviewed businesses?\n",
    "- What is the highest rating recieved in your data set and how many businesses have that rating?\n",
    "- What percentage of businesses have a rating greater than or  4.5?\n",
    "- What percentage of businesses have a rating less than 3?\n",
    "- What is the average rating of restaurants that have a price label of one dollar sign? Two dollar signs? Three dollar signs? \n",
    "- Return the text of the reviews for the most reviewed restaurant. \n",
    "- Return the name of the business with the most recent review. \n",
    "- Find the highest rated business and return text of the most recent review. If multiple business have the same rating, select the restaurant with the most reviews. \n",
    "- Find the lowest rated business and return text of the most recent review.  If multiple business have the same rating, select the restaurant with the least reviews. \n"
   ]
  },
  {
   "cell_type": "markdown",
   "metadata": {},
   "source": [
    "## Part 1 - Understanding your data and question\n",
    "\n",
    "Lok at the question and determine what data you will need to store in your database in order to answer the questions. Start to thin about your DB schema. What tables will you want to create and what columns will you ahve for those tables. \n",
    "\n",
    "Look at the API documentation, and determine what fields of the API response you will match up with the columns you want in your DB tables. \n",
    "\n",
    "\n",
    "https://www.yelp.com/developers/documentation/v3/get_started"
   ]
  },
  {
   "cell_type": "markdown",
   "metadata": {},
   "source": [
    "## Part 2 - Set up the DB\n",
    "\n",
    "Now that you are familiar with the data, create your SQL queries to create the DB and the appropriate tables. "
   ]
  },
  {
   "cell_type": "markdown",
   "metadata": {},
   "source": [
    "### Foriegn Keys\n",
    "\n",
    "For this project you will have two tables that you need to link using a foreign key. Below is some information about how to create a foriegn key.  \n",
    "\n",
    "http://www.mysqltutorial.org/mysql-foreign-key/\n",
    "\n"
   ]
  },
  {
   "cell_type": "markdown",
   "metadata": {},
   "source": [
    "## Part 3 - Create ETL pipeline for the business data from the API\n",
    "\n",
    "Now that you know what data you need from the API, you want to write code that will execute a api call, parse those results and then insert the results into the DB.  \n",
    "\n",
    "It is helpful to break this up into three different functions (*api call, parse results, and insert into DB*) and then you can write a function/script that pull the other three functions together. \n",
    "\n",
    "Let's first do this for the Business endpoint."
   ]
  },
  {
   "cell_type": "code",
   "execution_count": 6,
   "metadata": {},
   "outputs": [],
   "source": [
    "import requests\n",
    "import json\n",
    "client_id = 'DxQeJSiKJUmWIre2XGaKGg'\n",
    "api_key = '37K09M8JaffyRQL_0ZZtHQCZxV_HsOlyXzY1wys6XhR6sJOJNf1H3ojayRAQnebOywHxZJOmZGxVvvAECfrX5uPgcunVHC8E6ThWcloYXHreayE6v3K2cbQYg_0pXnYx'"
   ]
  },
  {
   "cell_type": "code",
   "execution_count": 7,
   "metadata": {},
   "outputs": [
    {
     "name": "stdout",
     "output_type": "stream",
     "text": [
      "<Response [200]>\n",
      "<class 'str'>\n",
      "{\"businesses\": [{\"id\": \"oAjwUCzyvH9gBIOOlf8PtQ\", \"alias\": \"the-stinking-rose-pub-and-grindhouse-harcourt\", \"name\": \"The Stinking Rose Pub & Grindhouse\", \"image_url\": \"https://s3-media4.fl.yelpcdn.com/bphoto/xsYj7Vzs5j_SHi994_9I7g/o.jpg\", \"is_closed\": false, \"url\": \"https://www.yelp.com/biz/the-stinking-rose-pub-and-grindhouse-harcourt?adjust_creative=DxQeJSiKJUmWIre2XGaKGg&utm_campaign=yelp_api_v3&utm_medium=api_v3_business_search&utm_source=DxQeJSiKJUmWIre2XGaKGg\", \"review_count\": 1, \"categories\": [{\"alias\": \"pubs\", \"title\": \"Pubs\"}], \"rating\": 5.0, \"coordinates\": {\"latitude\": 44.30876, \"longitude\": -77.80071}, \"transactions\": [], \"price\": \"$$\", \"location\": {\"address1\": \"26 Bridge West\", \"address2\": \"\", \"address3\": \"\", \"city\": \"Harcourt\", \"zip_code\": \"K0L\", \"country\": \"CA\", \"state\": \"ON\", \"display_address\": [\"26 Bridge West\", \"Harcourt, ON K0L\", \"Canada\"]}, \"phone\": \"+17056530001\", \"display_phone\": \"+1 705-653-0001\", \"distance\": 810.2538134017361}, {\"id\": \"OxqUWRZFUOz3r6_4bh4mfg\", \"alias\": \"cock-and-bull-new-york\", \"name\": \"Cock & Bull\", \"image_url\": \"https://s3-media2.fl.yelpcdn.com/bphoto/-82MfQUN7FXel19Ra9BsLg/o.jpg\", \"is_closed\": false, \"url\": \"https://www.yelp.com/biz/cock-and-bull-new-york?adjust_creative=DxQeJSiKJUmWIre2XGaKGg&utm_campaign=yelp_api_v3&utm_medium=api_v3_business_search&utm_source=DxQeJSiKJUmWIre2XGaKGg\", \"review_count\": 531, \"categories\": [{\"alias\": \"british\", \"title\": \"British\"}, {\"alias\": \"pubs\", \"title\": \"Pubs\"}, {\"alias\": \"gastropubs\", \"title\": \"Gastropubs\"}], \"rating\": 4.0, \"coordinates\": {\"latitude\": 40.7560908823673, \"longitude\": -73.9804858350908}, \"transactions\": [\"restaurant_reservation\"], \"price\": \"$$\", \"location\": {\"address1\": \"23 W 45th St\", \"address2\": null, \"address3\": \"\", \"city\": \"New York\", \"zip_code\": \"10036\", \"country\": \"US\", \"state\": \"NY\", \"display_address\": [\"23 W 45th St\", \"New York, NY 10036\"]}, \"phone\": \"+12128191900\", \"display_phone\": \"(212) 819-1900\", \"distance\": 5750.495668005237}, {\"id\": \"3NbhYebjZPjLTWZZyRuhsw\", \"alias\": \"the-winslow-new-york-2\", \"name\": \"The Winslow\", \"image_url\": \"https://s3-media2.fl.yelpcdn.com/bphoto/KqK_JDisR25T9QQdVvgHNg/o.jpg\", \"is_closed\": false, \"url\": \"https://www.yelp.com/biz/the-winslow-new-york-2?adjust_creative=DxQeJSiKJUmWIre2XGaKGg&utm_campaign=yelp_api_v3&utm_medium=api_v3_business_search&utm_source=DxQeJSiKJUmWIre2XGaKGg\", \"review_count\": 527, \"categories\": [{\"alias\": \"pubs\", \"title\": \"Pubs\"}, {\"alias\": \"british\", \"title\": \"British\"}, {\"alias\": \"cocktailbars\", \"title\": \"Cocktail Bars\"}], \"rating\": 4.5, \"coordinates\": {\"latitude\": 40.7327766418457, \"longitude\": -73.9852142333984}, \"transactions\": [\"restaurant_reservation\"], \"price\": \"$$\", \"location\": {\"address1\": \"243 E 14th St\", \"address2\": \"\", \"address3\": \"\", \"city\": \"New York\", \"zip_code\": \"10003\", \"country\": \"US\", \"state\": \"NY\", \"display_address\": [\"243 E 14th St\", \"New York, NY 10003\"]}, \"phone\": \"+12127777717\", \"display_phone\": \"(212) 777-7717\", \"distance\": 3132.7023604652477}, {\"id\": \"ZnhRUBos9FGQZrzbcPn6Vg\", \"alias\": \"o-haras-restaurant-and-pub-new-york\", \"name\": \"O'Hara's Restaurant and Pub\", \"image_url\": \"https://s3-media2.fl.yelpcdn.com/bphoto/nHPOfxtgtjaXPDWm6kPdIg/o.jpg\", \"is_closed\": false, \"url\": \"https://www.yelp.com/biz/o-haras-restaurant-and-pub-new-york?adjust_creative=DxQeJSiKJUmWIre2XGaKGg&utm_campaign=yelp_api_v3&utm_medium=api_v3_business_search&utm_source=DxQeJSiKJUmWIre2XGaKGg\", \"review_count\": 458, \"categories\": [{\"alias\": \"irish_pubs\", \"title\": \"Irish Pub\"}, {\"alias\": \"sportsbars\", \"title\": \"Sports Bars\"}, {\"alias\": \"tradamerican\", \"title\": \"American (Traditional)\"}], \"rating\": 4.0, \"coordinates\": {\"latitude\": 40.7093473589949, \"longitude\": -74.0122557367896}, \"transactions\": [], \"price\": \"$$\", \"location\": {\"address1\": \"120 Cedar St\", \"address2\": \"Ste 4\", \"address3\": \"\", \"city\": \"New York\", \"zip_code\": \"10006\", \"country\": \"US\", \"state\": \"NY\", \"display_address\": [\"120 Cedar St\", \"Ste 4\", \"New York, NY 10006\"]}, \"phone\": \"+12122673032\", \"display_phone\": \"(212) 267-3032\", \"distance\": 1575.0396379671865}, {\"id\": \"bkIMbvXOcztDVz8bpyhMzQ\", \"alias\": \"the-dead-poet-new-york\", \"name\": \"The Dead Poet\", \"image_url\": \"https://s3-media4.fl.yelpcdn.com/bphoto/fW9WcVHznuZMT-_x___jAg/o.jpg\", \"is_closed\": false, \"url\": \"https://www.yelp.com/biz/the-dead-poet-new-york?adjust_creative=DxQeJSiKJUmWIre2XGaKGg&utm_campaign=yelp_api_v3&utm_medium=api_v3_business_search&utm_source=DxQeJSiKJUmWIre2XGaKGg\", \"review_count\": 424, \"categories\": [{\"alias\": \"bars\", \"title\": \"Bars\"}, {\"alias\": \"tradamerican\", \"title\": \"American (Traditional)\"}], \"rating\": 4.0, \"coordinates\": {\"latitude\": 40.78499, \"longitude\": -73.97735}, \"transactions\": [], \"price\": \"$$\", \"location\": {\"address1\": \"450 Amsterdam Ave\", \"address2\": \"\", \"address3\": \"\", \"city\": \"New York\", \"zip_code\": \"10024\", \"country\": \"US\", \"state\": \"NY\", \"display_address\": [\"450 Amsterdam Ave\", \"New York, NY 10024\"]}, \"phone\": \"+12125955670\", \"display_phone\": \"(212) 595-5670\", \"distance\": 8959.249622374835}, {\"id\": \"RemvTpxalDjSew5HwmNzUQ\", \"alias\": \"the-dead-rabbit-new-york\", \"name\": \"The Dead Rabbit\", \"image_url\": \"https://s3-media2.fl.yelpcdn.com/bphoto/_4T5R0HHhASROheby-TXDA/o.jpg\", \"is_closed\": false, \"url\": \"https://www.yelp.com/biz/the-dead-rabbit-new-york?adjust_creative=DxQeJSiKJUmWIre2XGaKGg&utm_campaign=yelp_api_v3&utm_medium=api_v3_business_search&utm_source=DxQeJSiKJUmWIre2XGaKGg\", \"review_count\": 1555, \"categories\": [{\"alias\": \"cocktailbars\", \"title\": \"Cocktail Bars\"}], \"rating\": 4.0, \"coordinates\": {\"latitude\": 40.70329, \"longitude\": -74.01102}, \"transactions\": [], \"price\": \"$$\", \"location\": {\"address1\": \"30 Water St\", \"address2\": \"\", \"address3\": \"\", \"city\": \"New York\", \"zip_code\": \"10004\", \"country\": \"US\", \"state\": \"NY\", \"display_address\": [\"30 Water St\", \"New York, NY 10004\"]}, \"phone\": \"+16464227906\", \"display_phone\": \"(646) 422-7906\", \"distance\": 1431.0399855447463}, {\"id\": \"QArou0r7CmLNPWYRA9ecog\", \"alias\": \"mcsorleys-old-ale-house-new-york\", \"name\": \"McSorleys Old Ale House\", \"image_url\": \"https://s3-media4.fl.yelpcdn.com/bphoto/rMVnbtW504_4qK93_9Fy9w/o.jpg\", \"is_closed\": false, \"url\": \"https://www.yelp.com/biz/mcsorleys-old-ale-house-new-york?adjust_creative=DxQeJSiKJUmWIre2XGaKGg&utm_campaign=yelp_api_v3&utm_medium=api_v3_business_search&utm_source=DxQeJSiKJUmWIre2XGaKGg\", \"review_count\": 1757, \"categories\": [{\"alias\": \"divebars\", \"title\": \"Dive Bars\"}, {\"alias\": \"breweries\", \"title\": \"Breweries\"}, {\"alias\": \"beerbar\", \"title\": \"Beer Bar\"}], \"rating\": 4.0, \"coordinates\": {\"latitude\": 40.72884, \"longitude\": -73.98965}, \"transactions\": [], \"price\": \"$\", \"location\": {\"address1\": \"15 E 7th St\", \"address2\": \"\", \"address3\": \"\", \"city\": \"New York\", \"zip_code\": \"10003\", \"country\": \"US\", \"state\": \"NY\", \"display_address\": [\"15 E 7th St\", \"New York, NY 10003\"]}, \"phone\": \"+12124739148\", \"display_phone\": \"(212) 473-9148\", \"distance\": 2627.521769759495}, {\"id\": \"c3Ww3pgeHjBi3ctkeUWrjQ\", \"alias\": \"whiskey-tavern-new-york\", \"name\": \"Whiskey Tavern\", \"image_url\": \"https://s3-media1.fl.yelpcdn.com/bphoto/P3eezkfdJ1cP3Z34T5Kmyg/o.jpg\", \"is_closed\": false, \"url\": \"https://www.yelp.com/biz/whiskey-tavern-new-york?adjust_creative=DxQeJSiKJUmWIre2XGaKGg&utm_campaign=yelp_api_v3&utm_medium=api_v3_business_search&utm_source=DxQeJSiKJUmWIre2XGaKGg\", \"review_count\": 780, \"categories\": [{\"alias\": \"whiskeybars\", \"title\": \"Whiskey Bars\"}], \"rating\": 4.5, \"coordinates\": {\"latitude\": 40.71646, \"longitude\": -73.99969}, \"transactions\": [], \"price\": \"$$\", \"location\": {\"address1\": \"79 Baxter St\", \"address2\": \"\", \"address3\": \"\", \"city\": \"New York\", \"zip_code\": \"10013\", \"country\": \"US\", \"state\": \"NY\", \"display_address\": [\"79 Baxter St\", \"New York, NY 10013\"]}, \"phone\": \"+12123749119\", \"display_phone\": \"(212) 374-9119\", \"distance\": 1309.1739793690049}, {\"id\": \"lHGQM__w1x5Dxiq3aRPCTQ\", \"alias\": \"white-horse-tavern-financial-district-new-york\", \"name\": \"White Horse Tavern - Financial District\", \"image_url\": \"https://s3-media2.fl.yelpcdn.com/bphoto/YV-yxNcjo9RzuTdNZnY4Ow/o.jpg\", \"is_closed\": false, \"url\": \"https://www.yelp.com/biz/white-horse-tavern-financial-district-new-york?adjust_creative=DxQeJSiKJUmWIre2XGaKGg&utm_campaign=yelp_api_v3&utm_medium=api_v3_business_search&utm_source=DxQeJSiKJUmWIre2XGaKGg\", \"review_count\": 368, \"categories\": [{\"alias\": \"pubs\", \"title\": \"Pubs\"}, {\"alias\": \"burgers\", \"title\": \"Burgers\"}, {\"alias\": \"venues\", \"title\": \"Venues & Event Spaces\"}], \"rating\": 4.0, \"coordinates\": {\"latitude\": 40.70372, \"longitude\": -74.01237}, \"transactions\": [], \"price\": \"$\", \"location\": {\"address1\": \"25 Bridge St\", \"address2\": \"\", \"address3\": \"\", \"city\": \"New York\", \"zip_code\": \"10004\", \"country\": \"US\", \"state\": \"NY\", \"display_address\": [\"25 Bridge St\", \"New York, NY 10004\"]}, \"phone\": \"+12126689046\", \"display_phone\": \"(212) 668-9046\", \"distance\": 1537.340275509881}, {\"id\": \"1pMep2AS_MPdobWwDzgkPw\", \"alias\": \"4th-avenue-pub-brooklyn\", \"name\": \"4th Avenue Pub\", \"image_url\": \"https://s3-media2.fl.yelpcdn.com/bphoto/Gi7PJWArnJwk6wGV99WIhQ/o.jpg\", \"is_closed\": false, \"url\": \"https://www.yelp.com/biz/4th-avenue-pub-brooklyn?adjust_creative=DxQeJSiKJUmWIre2XGaKGg&utm_campaign=yelp_api_v3&utm_medium=api_v3_business_search&utm_source=DxQeJSiKJUmWIre2XGaKGg\", \"review_count\": 306, \"categories\": [{\"alias\": \"pubs\", \"title\": \"Pubs\"}, {\"alias\": \"beergardens\", \"title\": \"Beer Gardens\"}, {\"alias\": \"beerbar\", \"title\": \"Beer Bar\"}], \"rating\": 4.0, \"coordinates\": {\"latitude\": 40.682325, \"longitude\": -73.980126}, \"transactions\": [], \"price\": \"$$\", \"location\": {\"address1\": \"76 4th Ave\", \"address2\": null, \"address3\": \"\", \"city\": \"Brooklyn\", \"zip_code\": \"11217\", \"country\": \"US\", \"state\": \"NY\", \"display_address\": [\"76 4th Ave\", \"Brooklyn, NY 11217\"]}, \"phone\": \"+17186432273\", \"display_phone\": \"(718) 643-2273\", \"distance\": 2839.66563564612}], \"total\": 2700, \"region\": {\"center\": {\"longitude\": -73.99429321289062, \"latitude\": 40.70544486444615}}}\n"
     ]
    }
   ],
   "source": [
    "    term = 'pub'\n",
    "    location = 'NY'\n",
    "    SEARCH_LIMIT = 10\n",
    "\n",
    "    url = 'https://api.yelp.com/v3/businesses/search'\n",
    "\n",
    "    headers = {\n",
    "        'Authorization': 'Bearer {}'.format(api_key),\n",
    "    }\n",
    "\n",
    "    url_params = {\n",
    "                    'term': term.replace(' ', '+'),\n",
    "                    'location': location.replace(' ', '+'),\n",
    "                    'limit': SEARCH_LIMIT\n",
    "            }\n",
    "    response = requests.get(url, headers=headers, params=url_params)\n",
    "print(response)\n",
    "print(type(response.text))\n",
    "print(response.text)"
   ]
  },
  {
   "cell_type": "code",
   "execution_count": 8,
   "metadata": {},
   "outputs": [
    {
     "data": {
      "text/plain": [
       "dict_keys(['businesses', 'total', 'region'])"
      ]
     },
     "execution_count": 8,
     "metadata": {},
     "output_type": "execute_result"
    }
   ],
   "source": [
    "response.json().keys()"
   ]
  },
  {
   "cell_type": "code",
   "execution_count": 9,
   "metadata": {},
   "outputs": [
    {
     "name": "stdout",
     "output_type": "stream",
     "text": [
      "businesses\n",
      "<class 'list'>\n",
      "\n",
      "\n",
      "total\n",
      "<class 'int'>\n",
      "\n",
      "\n",
      "region\n",
      "<class 'dict'>\n",
      "\n",
      "\n"
     ]
    }
   ],
   "source": [
    "for key in response.json().keys():\n",
    "    print(key)\n",
    "    value = response.json()[key] #Use standard dictionary formatting\n",
    "    print(type(value)) #What type is it?\n",
    "    print('\\n') #Seperate out data"
   ]
  },
  {
   "cell_type": "code",
   "execution_count": 10,
   "metadata": {
    "scrolled": false
   },
   "outputs": [],
   "source": [
    "import pandas as pd\n",
    "yelp_data =response.json()\n",
    "pub = yelp_data['businesses']"
   ]
  },
  {
   "cell_type": "code",
   "execution_count": 11,
   "metadata": {
    "scrolled": true
   },
   "outputs": [
    {
     "data": {
      "text/html": [
       "<div>\n",
       "<style scoped>\n",
       "    .dataframe tbody tr th:only-of-type {\n",
       "        vertical-align: middle;\n",
       "    }\n",
       "\n",
       "    .dataframe tbody tr th {\n",
       "        vertical-align: top;\n",
       "    }\n",
       "\n",
       "    .dataframe thead th {\n",
       "        text-align: right;\n",
       "    }\n",
       "</style>\n",
       "<table border=\"1\" class=\"dataframe\">\n",
       "  <thead>\n",
       "    <tr style=\"text-align: right;\">\n",
       "      <th></th>\n",
       "      <th>id</th>\n",
       "      <th>alias</th>\n",
       "      <th>name</th>\n",
       "      <th>image_url</th>\n",
       "      <th>is_closed</th>\n",
       "      <th>url</th>\n",
       "      <th>review_count</th>\n",
       "      <th>categories</th>\n",
       "      <th>rating</th>\n",
       "      <th>coordinates</th>\n",
       "      <th>transactions</th>\n",
       "      <th>price</th>\n",
       "      <th>location</th>\n",
       "      <th>phone</th>\n",
       "      <th>display_phone</th>\n",
       "      <th>distance</th>\n",
       "    </tr>\n",
       "  </thead>\n",
       "  <tbody>\n",
       "    <tr>\n",
       "      <td>0</td>\n",
       "      <td>oAjwUCzyvH9gBIOOlf8PtQ</td>\n",
       "      <td>the-stinking-rose-pub-and-grindhouse-harcourt</td>\n",
       "      <td>The Stinking Rose Pub &amp; Grindhouse</td>\n",
       "      <td>https://s3-media4.fl.yelpcdn.com/bphoto/xsYj7V...</td>\n",
       "      <td>False</td>\n",
       "      <td>https://www.yelp.com/biz/the-stinking-rose-pub...</td>\n",
       "      <td>1</td>\n",
       "      <td>[{'alias': 'pubs', 'title': 'Pubs'}]</td>\n",
       "      <td>5.0</td>\n",
       "      <td>{'latitude': 44.30876, 'longitude': -77.80071}</td>\n",
       "      <td>[]</td>\n",
       "      <td>$$</td>\n",
       "      <td>{'address1': '26 Bridge West', 'address2': '',...</td>\n",
       "      <td>+17056530001</td>\n",
       "      <td>+1 705-653-0001</td>\n",
       "      <td>810.253813</td>\n",
       "    </tr>\n",
       "    <tr>\n",
       "      <td>1</td>\n",
       "      <td>OxqUWRZFUOz3r6_4bh4mfg</td>\n",
       "      <td>cock-and-bull-new-york</td>\n",
       "      <td>Cock &amp; Bull</td>\n",
       "      <td>https://s3-media2.fl.yelpcdn.com/bphoto/-82MfQ...</td>\n",
       "      <td>False</td>\n",
       "      <td>https://www.yelp.com/biz/cock-and-bull-new-yor...</td>\n",
       "      <td>531</td>\n",
       "      <td>[{'alias': 'british', 'title': 'British'}, {'a...</td>\n",
       "      <td>4.0</td>\n",
       "      <td>{'latitude': 40.7560908823673, 'longitude': -7...</td>\n",
       "      <td>[restaurant_reservation]</td>\n",
       "      <td>$$</td>\n",
       "      <td>{'address1': '23 W 45th St', 'address2': None,...</td>\n",
       "      <td>+12128191900</td>\n",
       "      <td>(212) 819-1900</td>\n",
       "      <td>5750.495668</td>\n",
       "    </tr>\n",
       "    <tr>\n",
       "      <td>2</td>\n",
       "      <td>3NbhYebjZPjLTWZZyRuhsw</td>\n",
       "      <td>the-winslow-new-york-2</td>\n",
       "      <td>The Winslow</td>\n",
       "      <td>https://s3-media2.fl.yelpcdn.com/bphoto/KqK_JD...</td>\n",
       "      <td>False</td>\n",
       "      <td>https://www.yelp.com/biz/the-winslow-new-york-...</td>\n",
       "      <td>527</td>\n",
       "      <td>[{'alias': 'pubs', 'title': 'Pubs'}, {'alias':...</td>\n",
       "      <td>4.5</td>\n",
       "      <td>{'latitude': 40.7327766418457, 'longitude': -7...</td>\n",
       "      <td>[restaurant_reservation]</td>\n",
       "      <td>$$</td>\n",
       "      <td>{'address1': '243 E 14th St', 'address2': '', ...</td>\n",
       "      <td>+12127777717</td>\n",
       "      <td>(212) 777-7717</td>\n",
       "      <td>3132.702360</td>\n",
       "    </tr>\n",
       "    <tr>\n",
       "      <td>3</td>\n",
       "      <td>ZnhRUBos9FGQZrzbcPn6Vg</td>\n",
       "      <td>o-haras-restaurant-and-pub-new-york</td>\n",
       "      <td>O'Hara's Restaurant and Pub</td>\n",
       "      <td>https://s3-media2.fl.yelpcdn.com/bphoto/nHPOfx...</td>\n",
       "      <td>False</td>\n",
       "      <td>https://www.yelp.com/biz/o-haras-restaurant-an...</td>\n",
       "      <td>458</td>\n",
       "      <td>[{'alias': 'irish_pubs', 'title': 'Irish Pub'}...</td>\n",
       "      <td>4.0</td>\n",
       "      <td>{'latitude': 40.7093473589949, 'longitude': -7...</td>\n",
       "      <td>[]</td>\n",
       "      <td>$$</td>\n",
       "      <td>{'address1': '120 Cedar St', 'address2': 'Ste ...</td>\n",
       "      <td>+12122673032</td>\n",
       "      <td>(212) 267-3032</td>\n",
       "      <td>1575.039638</td>\n",
       "    </tr>\n",
       "    <tr>\n",
       "      <td>4</td>\n",
       "      <td>bkIMbvXOcztDVz8bpyhMzQ</td>\n",
       "      <td>the-dead-poet-new-york</td>\n",
       "      <td>The Dead Poet</td>\n",
       "      <td>https://s3-media4.fl.yelpcdn.com/bphoto/fW9WcV...</td>\n",
       "      <td>False</td>\n",
       "      <td>https://www.yelp.com/biz/the-dead-poet-new-yor...</td>\n",
       "      <td>424</td>\n",
       "      <td>[{'alias': 'bars', 'title': 'Bars'}, {'alias':...</td>\n",
       "      <td>4.0</td>\n",
       "      <td>{'latitude': 40.78499, 'longitude': -73.97735}</td>\n",
       "      <td>[]</td>\n",
       "      <td>$$</td>\n",
       "      <td>{'address1': '450 Amsterdam Ave', 'address2': ...</td>\n",
       "      <td>+12125955670</td>\n",
       "      <td>(212) 595-5670</td>\n",
       "      <td>8959.249622</td>\n",
       "    </tr>\n",
       "  </tbody>\n",
       "</table>\n",
       "</div>"
      ],
      "text/plain": [
       "                       id                                          alias  \\\n",
       "0  oAjwUCzyvH9gBIOOlf8PtQ  the-stinking-rose-pub-and-grindhouse-harcourt   \n",
       "1  OxqUWRZFUOz3r6_4bh4mfg                         cock-and-bull-new-york   \n",
       "2  3NbhYebjZPjLTWZZyRuhsw                         the-winslow-new-york-2   \n",
       "3  ZnhRUBos9FGQZrzbcPn6Vg            o-haras-restaurant-and-pub-new-york   \n",
       "4  bkIMbvXOcztDVz8bpyhMzQ                         the-dead-poet-new-york   \n",
       "\n",
       "                                 name  \\\n",
       "0  The Stinking Rose Pub & Grindhouse   \n",
       "1                         Cock & Bull   \n",
       "2                         The Winslow   \n",
       "3         O'Hara's Restaurant and Pub   \n",
       "4                       The Dead Poet   \n",
       "\n",
       "                                           image_url  is_closed  \\\n",
       "0  https://s3-media4.fl.yelpcdn.com/bphoto/xsYj7V...      False   \n",
       "1  https://s3-media2.fl.yelpcdn.com/bphoto/-82MfQ...      False   \n",
       "2  https://s3-media2.fl.yelpcdn.com/bphoto/KqK_JD...      False   \n",
       "3  https://s3-media2.fl.yelpcdn.com/bphoto/nHPOfx...      False   \n",
       "4  https://s3-media4.fl.yelpcdn.com/bphoto/fW9WcV...      False   \n",
       "\n",
       "                                                 url  review_count  \\\n",
       "0  https://www.yelp.com/biz/the-stinking-rose-pub...             1   \n",
       "1  https://www.yelp.com/biz/cock-and-bull-new-yor...           531   \n",
       "2  https://www.yelp.com/biz/the-winslow-new-york-...           527   \n",
       "3  https://www.yelp.com/biz/o-haras-restaurant-an...           458   \n",
       "4  https://www.yelp.com/biz/the-dead-poet-new-yor...           424   \n",
       "\n",
       "                                          categories  rating  \\\n",
       "0               [{'alias': 'pubs', 'title': 'Pubs'}]     5.0   \n",
       "1  [{'alias': 'british', 'title': 'British'}, {'a...     4.0   \n",
       "2  [{'alias': 'pubs', 'title': 'Pubs'}, {'alias':...     4.5   \n",
       "3  [{'alias': 'irish_pubs', 'title': 'Irish Pub'}...     4.0   \n",
       "4  [{'alias': 'bars', 'title': 'Bars'}, {'alias':...     4.0   \n",
       "\n",
       "                                         coordinates  \\\n",
       "0     {'latitude': 44.30876, 'longitude': -77.80071}   \n",
       "1  {'latitude': 40.7560908823673, 'longitude': -7...   \n",
       "2  {'latitude': 40.7327766418457, 'longitude': -7...   \n",
       "3  {'latitude': 40.7093473589949, 'longitude': -7...   \n",
       "4     {'latitude': 40.78499, 'longitude': -73.97735}   \n",
       "\n",
       "               transactions price  \\\n",
       "0                        []    $$   \n",
       "1  [restaurant_reservation]    $$   \n",
       "2  [restaurant_reservation]    $$   \n",
       "3                        []    $$   \n",
       "4                        []    $$   \n",
       "\n",
       "                                            location         phone  \\\n",
       "0  {'address1': '26 Bridge West', 'address2': '',...  +17056530001   \n",
       "1  {'address1': '23 W 45th St', 'address2': None,...  +12128191900   \n",
       "2  {'address1': '243 E 14th St', 'address2': '', ...  +12127777717   \n",
       "3  {'address1': '120 Cedar St', 'address2': 'Ste ...  +12122673032   \n",
       "4  {'address1': '450 Amsterdam Ave', 'address2': ...  +12125955670   \n",
       "\n",
       "     display_phone     distance  \n",
       "0  +1 705-653-0001   810.253813  \n",
       "1   (212) 819-1900  5750.495668  \n",
       "2   (212) 777-7717  3132.702360  \n",
       "3   (212) 267-3032  1575.039638  \n",
       "4   (212) 595-5670  8959.249622  "
      ]
     },
     "execution_count": 11,
     "metadata": {},
     "output_type": "execute_result"
    }
   ],
   "source": [
    "pd.DataFrame(pub).head()"
   ]
  },
  {
   "cell_type": "code",
   "execution_count": 12,
   "metadata": {},
   "outputs": [],
   "source": [
    "import mysql.connector\n",
    "from mysql.connector import errorcode"
   ]
  },
  {
   "cell_type": "code",
   "execution_count": 13,
   "metadata": {},
   "outputs": [
    {
     "ename": "ProgrammingError",
     "evalue": "1049 (42000): Unknown database 'yelp'",
     "output_type": "error",
     "traceback": [
      "\u001b[0;31m---------------------------------------------------------------------------\u001b[0m",
      "\u001b[0;31mMySQLInterfaceError\u001b[0m                       Traceback (most recent call last)",
      "\u001b[0;32m/opt/anaconda3/envs/learn-env/lib/python3.6/site-packages/mysql/connector/connection_cext.py\u001b[0m in \u001b[0;36m_open_connection\u001b[0;34m(self)\u001b[0m\n\u001b[1;32m    215\u001b[0m         \u001b[0;32mtry\u001b[0m\u001b[0;34m:\u001b[0m\u001b[0;34m\u001b[0m\u001b[0;34m\u001b[0m\u001b[0m\n\u001b[0;32m--> 216\u001b[0;31m             \u001b[0mself\u001b[0m\u001b[0;34m.\u001b[0m\u001b[0m_cmysql\u001b[0m\u001b[0;34m.\u001b[0m\u001b[0mconnect\u001b[0m\u001b[0;34m(\u001b[0m\u001b[0;34m**\u001b[0m\u001b[0mcnx_kwargs\u001b[0m\u001b[0;34m)\u001b[0m\u001b[0;34m\u001b[0m\u001b[0;34m\u001b[0m\u001b[0m\n\u001b[0m\u001b[1;32m    217\u001b[0m         \u001b[0;32mexcept\u001b[0m \u001b[0mMySQLInterfaceError\u001b[0m \u001b[0;32mas\u001b[0m \u001b[0mexc\u001b[0m\u001b[0;34m:\u001b[0m\u001b[0;34m\u001b[0m\u001b[0;34m\u001b[0m\u001b[0m\n",
      "\u001b[0;31mMySQLInterfaceError\u001b[0m: Unknown database 'yelp'",
      "\nDuring handling of the above exception, another exception occurred:\n",
      "\u001b[0;31mProgrammingError\u001b[0m                          Traceback (most recent call last)",
      "\u001b[0;32m<ipython-input-13-9e9ecec827ec>\u001b[0m in \u001b[0;36m<module>\u001b[0;34m\u001b[0m\n\u001b[1;32m      3\u001b[0m     \u001b[0muser\u001b[0m \u001b[0;34m=\u001b[0m \u001b[0;34m\"KuSin\"\u001b[0m\u001b[0;34m,\u001b[0m\u001b[0;34m\u001b[0m\u001b[0;34m\u001b[0m\u001b[0m\n\u001b[1;32m      4\u001b[0m     \u001b[0mpasswd\u001b[0m \u001b[0;34m=\u001b[0m \u001b[0;34m\"Password\"\u001b[0m\u001b[0;34m,\u001b[0m\u001b[0;34m\u001b[0m\u001b[0;34m\u001b[0m\u001b[0m\n\u001b[0;32m----> 5\u001b[0;31m     \u001b[0mdatabase\u001b[0m \u001b[0;34m=\u001b[0m \u001b[0;34m'yelp'\u001b[0m\u001b[0;34m\u001b[0m\u001b[0;34m\u001b[0m\u001b[0m\n\u001b[0m\u001b[1;32m      6\u001b[0m )\n\u001b[1;32m      7\u001b[0m \u001b[0mprint\u001b[0m\u001b[0;34m(\u001b[0m\u001b[0mcnx\u001b[0m\u001b[0;34m)\u001b[0m\u001b[0;34m\u001b[0m\u001b[0;34m\u001b[0m\u001b[0m\n",
      "\u001b[0;32m/opt/anaconda3/envs/learn-env/lib/python3.6/site-packages/mysql/connector/__init__.py\u001b[0m in \u001b[0;36mconnect\u001b[0;34m(*args, **kwargs)\u001b[0m\n\u001b[1;32m    216\u001b[0m \u001b[0;34m\u001b[0m\u001b[0m\n\u001b[1;32m    217\u001b[0m     \u001b[0;32mif\u001b[0m \u001b[0mHAVE_CEXT\u001b[0m \u001b[0;32mand\u001b[0m \u001b[0;32mnot\u001b[0m \u001b[0muse_pure\u001b[0m\u001b[0;34m:\u001b[0m\u001b[0;34m\u001b[0m\u001b[0;34m\u001b[0m\u001b[0m\n\u001b[0;32m--> 218\u001b[0;31m         \u001b[0;32mreturn\u001b[0m \u001b[0mCMySQLConnection\u001b[0m\u001b[0;34m(\u001b[0m\u001b[0;34m*\u001b[0m\u001b[0margs\u001b[0m\u001b[0;34m,\u001b[0m \u001b[0;34m**\u001b[0m\u001b[0mkwargs\u001b[0m\u001b[0;34m)\u001b[0m\u001b[0;34m\u001b[0m\u001b[0;34m\u001b[0m\u001b[0m\n\u001b[0m\u001b[1;32m    219\u001b[0m     \u001b[0;32mreturn\u001b[0m \u001b[0mMySQLConnection\u001b[0m\u001b[0;34m(\u001b[0m\u001b[0;34m*\u001b[0m\u001b[0margs\u001b[0m\u001b[0;34m,\u001b[0m \u001b[0;34m**\u001b[0m\u001b[0mkwargs\u001b[0m\u001b[0;34m)\u001b[0m\u001b[0;34m\u001b[0m\u001b[0;34m\u001b[0m\u001b[0m\n\u001b[1;32m    220\u001b[0m \u001b[0mConnect\u001b[0m \u001b[0;34m=\u001b[0m \u001b[0mconnect\u001b[0m  \u001b[0;31m# pylint: disable=C0103\u001b[0m\u001b[0;34m\u001b[0m\u001b[0;34m\u001b[0m\u001b[0m\n",
      "\u001b[0;32m/opt/anaconda3/envs/learn-env/lib/python3.6/site-packages/mysql/connector/connection_cext.py\u001b[0m in \u001b[0;36m__init__\u001b[0;34m(self, **kwargs)\u001b[0m\n\u001b[1;32m     78\u001b[0m \u001b[0;34m\u001b[0m\u001b[0m\n\u001b[1;32m     79\u001b[0m         \u001b[0;32mif\u001b[0m \u001b[0mkwargs\u001b[0m\u001b[0;34m:\u001b[0m\u001b[0;34m\u001b[0m\u001b[0;34m\u001b[0m\u001b[0m\n\u001b[0;32m---> 80\u001b[0;31m             \u001b[0mself\u001b[0m\u001b[0;34m.\u001b[0m\u001b[0mconnect\u001b[0m\u001b[0;34m(\u001b[0m\u001b[0;34m**\u001b[0m\u001b[0mkwargs\u001b[0m\u001b[0;34m)\u001b[0m\u001b[0;34m\u001b[0m\u001b[0;34m\u001b[0m\u001b[0m\n\u001b[0m\u001b[1;32m     81\u001b[0m \u001b[0;34m\u001b[0m\u001b[0m\n\u001b[1;32m     82\u001b[0m     \u001b[0;32mdef\u001b[0m \u001b[0m_add_default_conn_attrs\u001b[0m\u001b[0;34m(\u001b[0m\u001b[0mself\u001b[0m\u001b[0;34m)\u001b[0m\u001b[0;34m:\u001b[0m\u001b[0;34m\u001b[0m\u001b[0;34m\u001b[0m\u001b[0m\n",
      "\u001b[0;32m/opt/anaconda3/envs/learn-env/lib/python3.6/site-packages/mysql/connector/abstracts.py\u001b[0m in \u001b[0;36mconnect\u001b[0;34m(self, **kwargs)\u001b[0m\n\u001b[1;32m    958\u001b[0m \u001b[0;34m\u001b[0m\u001b[0m\n\u001b[1;32m    959\u001b[0m         \u001b[0mself\u001b[0m\u001b[0;34m.\u001b[0m\u001b[0mdisconnect\u001b[0m\u001b[0;34m(\u001b[0m\u001b[0;34m)\u001b[0m\u001b[0;34m\u001b[0m\u001b[0;34m\u001b[0m\u001b[0m\n\u001b[0;32m--> 960\u001b[0;31m         \u001b[0mself\u001b[0m\u001b[0;34m.\u001b[0m\u001b[0m_open_connection\u001b[0m\u001b[0;34m(\u001b[0m\u001b[0;34m)\u001b[0m\u001b[0;34m\u001b[0m\u001b[0;34m\u001b[0m\u001b[0m\n\u001b[0m\u001b[1;32m    961\u001b[0m         \u001b[0;31m# Server does not allow to run any other statement different from ALTER\u001b[0m\u001b[0;34m\u001b[0m\u001b[0;34m\u001b[0m\u001b[0;34m\u001b[0m\u001b[0m\n\u001b[1;32m    962\u001b[0m         \u001b[0;31m# when user's password has been expired.\u001b[0m\u001b[0;34m\u001b[0m\u001b[0;34m\u001b[0m\u001b[0;34m\u001b[0m\u001b[0m\n",
      "\u001b[0;32m/opt/anaconda3/envs/learn-env/lib/python3.6/site-packages/mysql/connector/connection_cext.py\u001b[0m in \u001b[0;36m_open_connection\u001b[0;34m(self)\u001b[0m\n\u001b[1;32m    217\u001b[0m         \u001b[0;32mexcept\u001b[0m \u001b[0mMySQLInterfaceError\u001b[0m \u001b[0;32mas\u001b[0m \u001b[0mexc\u001b[0m\u001b[0;34m:\u001b[0m\u001b[0;34m\u001b[0m\u001b[0;34m\u001b[0m\u001b[0m\n\u001b[1;32m    218\u001b[0m             raise errors.get_mysql_exception(msg=exc.msg, errno=exc.errno,\n\u001b[0;32m--> 219\u001b[0;31m                                              sqlstate=exc.sqlstate)\n\u001b[0m\u001b[1;32m    220\u001b[0m \u001b[0;34m\u001b[0m\u001b[0m\n\u001b[1;32m    221\u001b[0m         \u001b[0mself\u001b[0m\u001b[0;34m.\u001b[0m\u001b[0m_do_handshake\u001b[0m\u001b[0;34m(\u001b[0m\u001b[0;34m)\u001b[0m\u001b[0;34m\u001b[0m\u001b[0;34m\u001b[0m\u001b[0m\n",
      "\u001b[0;31mProgrammingError\u001b[0m: 1049 (42000): Unknown database 'yelp'"
     ]
    }
   ],
   "source": [
    "cnx = mysql.connector .connect(\n",
    "    host = \"database-1.cl7l8mgndgqj.us-east-2.rds.amazonaws.com\",\n",
    "    user = \"KuSin\",\n",
    "    passwd = \"Password\",\n",
    "    database = 'yelp'\n",
    ")\n",
    "print(cnx)\n",
    "cursor = cnx.cursor()"
   ]
  },
  {
   "cell_type": "code",
   "execution_count": 14,
   "metadata": {},
   "outputs": [],
   "source": [
    "def create_database(cursor, database):\n",
    "    try:\n",
    "        cursor.execute(\n",
    "            \"CREATE DATABASE {} DEFAULT CHARACTER SET 'utf8'\".format(database))\n",
    "    except mysql.connector.Error as err:\n",
    "        print(\"Failed creating database: {}\".format(err))\n",
    "        exit(1)"
   ]
  },
  {
   "cell_type": "code",
   "execution_count": null,
   "metadata": {},
   "outputs": [],
   "source": [
    "db_name = \"yelp\"\n",
    "create_database(cursor, db_name)"
   ]
  },
  {
   "cell_type": "code",
   "execution_count": null,
   "metadata": {},
   "outputs": [],
   "source": [
    "def parsed_tuples(yelp_data):\n",
    "    for i in yelp_data['businesses']:\n",
    "        if 'name' in i:\n",
    "            pass\n",
    "        else:\n",
    "            i['name']='nan'\n",
    "        if 'review_count' in i:\n",
    "            pass\n",
    "        else:\n",
    "            i['review_count']='nan'\n",
    "        if 'rating' in i:\n",
    "            pass\n",
    "        else:\n",
    "            i['rating']='nan'\n",
    "        if 'location' in i:\n",
    "            pass\n",
    "        else:\n",
    "            i['location']='nan'\n",
    "        if 'price' in i:\n",
    "            pass\n",
    "        else:\n",
    "            i['price']='nan'\n",
    "    parsed_tuple_list = []\n",
    "    for i in yelp_data['businesses']:\n",
    "        parsed_tuple_list.append((i['id'], i['name'], i['review_count'], i['rating'], i['location'], i['price']))\n",
    "    return parsed_tuple_list\n",
    "aa=parsed_tuples(yelp_data)\n",
    "aa\n"
   ]
  },
  {
   "cell_type": "code",
   "execution_count": null,
   "metadata": {},
   "outputs": [],
   "source": [
    "test =  (\n",
    "    \"CREATE TABLE Businesses (\"\n",
    "    \"  id varchar(50) PRIMARY KEY,\"\n",
    "    \"  name varchar(100),\"\n",
    "    \"  price varchar(6),\"\n",
    "    \"  rating float(6),\"\n",
    "    \"  review_count int(10),\"\n",
    "    \") ENGINE=InnoDB\")"
   ]
  },
  {
   "cell_type": "code",
   "execution_count": null,
   "metadata": {},
   "outputs": [],
   "source": [
    "#DB_NAME = 'Pubs'#\n",
    "\n",
    "# db_name = 'yelp'\n",
    "TABLES = {}\n",
    "TABLES['Businesses'] = (\n",
    "    \"CREATE TABLE Businesses (\"\n",
    "    \"  id varchar(50) PRIMARY KEY,\"\n",
    "    \"  name varchar(100),\"\n",
    "    \"  price varchar(6),\"\n",
    "    \"  rating float(6),\"\n",
    "    \"  review_count int(10)\"\n",
    "    \") ENGINE=InnoDB\")"
   ]
  },
  {
   "cell_type": "code",
   "execution_count": null,
   "metadata": {},
   "outputs": [],
   "source": [
    "cursor.execute('USE yelp')"
   ]
  },
  {
   "cell_type": "code",
   "execution_count": null,
   "metadata": {},
   "outputs": [],
   "source": [
    "for table_name in TABLES:\n",
    "    table_description = TABLES[table_name]\n",
    "    try:\n",
    "        print(\"Creating table {}: \".format(table_name), end='')\n",
    "        cursor.execute(table_description)\n",
    "    except mysql.connector.Error as err:\n",
    "        if err.errno == errorcode.ER_TABLE_EXISTS_ERROR:\n",
    "            print(\"already exists.\")\n",
    "        else:\n",
    "            print(err.msg)\n",
    "    else:\n",
    "        print(\"OK\")\n"
   ]
  },
  {
   "cell_type": "code",
   "execution_count": null,
   "metadata": {},
   "outputs": [],
   "source": [
    "stmt = \"INSERT INTO businesses(name, price, rating, review_count) VALUES (%s, %s, %s, %s)\".format(name, price, rating, review_count)\n",
    "cursor.executemany(stmt, aa)\n",
    "cnx.commit()"
   ]
  },
  {
   "cell_type": "code",
   "execution_count": null,
   "metadata": {},
   "outputs": [],
   "source": [
    "print (TABLES['Businesses'])"
   ]
  },
  {
   "cell_type": "code",
   "execution_count": null,
   "metadata": {},
   "outputs": [],
   "source": [
    "# write a function to parse the API response \n",
    "# so that you can easily insert the data in to the DB"
   ]
  },
  {
   "cell_type": "code",
   "execution_count": null,
   "metadata": {},
   "outputs": [],
   "source": [
    "# Write a function to take your parsed data and insert it into the DB"
   ]
  },
  {
   "cell_type": "code",
   "execution_count": null,
   "metadata": {},
   "outputs": [],
   "source": [
    "# Write a script that combines the three functions above into a single process."
   ]
  },
  {
   "cell_type": "markdown",
   "metadata": {},
   "source": [
    "## Part 4 -  Create ETL pipeline for the restaurant review data from the API\n",
    "\n",
    "You've done this for the Businesses, now you need to do this for reviews. You will follow the same process, but your functions will be specific to reviews."
   ]
  },
  {
   "cell_type": "code",
   "execution_count": null,
   "metadata": {},
   "outputs": [],
   "source": [
    "# write a SQL query to pull back all of the business ids \n",
    "# you will need these ids to pull back the reviews for each restaurant"
   ]
  },
  {
   "cell_type": "code",
   "execution_count": null,
   "metadata": {},
   "outputs": [],
   "source": [
    "# write a function that takes a business id \n",
    "# and makes a call to the API for reivews\n"
   ]
  },
  {
   "cell_type": "code",
   "execution_count": null,
   "metadata": {},
   "outputs": [],
   "source": [
    "# Write a function to parse out the relevant information from the reviews"
   ]
  },
  {
   "cell_type": "code",
   "execution_count": null,
   "metadata": {},
   "outputs": [],
   "source": [
    "# write a function to insert the parsed data into the reviews table"
   ]
  },
  {
   "cell_type": "code",
   "execution_count": null,
   "metadata": {},
   "outputs": [],
   "source": [
    "# combine the functions above into a single script  "
   ]
  },
  {
   "cell_type": "markdown",
   "metadata": {},
   "source": [
    "## Part 5 -  Write SQL queries that will answer the questions posed. \n",
    "\n",
    "Now that your data is in the DB, you can answer the questions. Write SQL querires that will answer the questions. **Do not use Pandas in this lab**"
   ]
  },
  {
   "cell_type": "code",
   "execution_count": null,
   "metadata": {},
   "outputs": [],
   "source": [
    "# create connection"
   ]
  },
  {
   "cell_type": "code",
   "execution_count": null,
   "metadata": {},
   "outputs": [],
   "source": [
    "# execute SQL queries"
   ]
  },
  {
   "cell_type": "code",
   "execution_count": null,
   "metadata": {},
   "outputs": [],
   "source": []
  },
  {
   "cell_type": "markdown",
   "metadata": {},
   "source": [
    "# Extra Reference help"
   ]
  },
  {
   "cell_type": "markdown",
   "metadata": {},
   "source": [
    "###  Pagination\n",
    "\n",
    "Returning to the Yelp API, the [documentation](https://www.yelp.com/developers/documentation/v3/business_search) also provides us details regarding the API limits. These often include details about the number of requests a user is allowed to make within a specified time limit and the maximum number of results to be returned. In this case, we are told that any request has a maximum of 50 results per request and defaults to 20. Furthermore, any search will be limited to a total of 1000 results. To retrieve all 1000 of these results, we would have to page through the results piece by piece, retriving 50 at a time. Processes such as these are often refered to as pagination.\n",
    "\n",
    "Now that you have an initial response, you can examine the contents of the json container. For example, you might start with ```response.json().keys()```. Here, you'll see a key for `'total'`, which tells you the full number of matching results given your query parameters. Write a loop (or ideally a function) which then makes successive API calls using the offset parameter to retrieve all of the results (or 5000 for a particularly large result set) for the original query. As you do this, be mindful of how you store the data. \n",
    "\n",
    "**Note: be mindful of the API rate limits. You can only make 5000 requests per day, and APIs can make requests too fast. Start prototyping small before running a loop that could be faulty. You can also use time.sleep(n) to add delays. For more details see https://www.yelp.com/developers/documentation/v3/rate_limiting.**"
   ]
  },
  {
   "cell_type": "markdown",
   "metadata": {},
   "source": [
    "***Below is sample code that you can use to help you deal with the pagination parameter and bring all of the functions together.***\n",
    "\n",
    "\n",
    "***Also, something might cause your code to break while it is running. You don't want to constantly repull the same data when this happens, so you should insert the data into the database as you call and parse it, not after you have all of the data***\n"
   ]
  },
  {
   "cell_type": "code",
   "execution_count": null,
   "metadata": {},
   "outputs": [],
   "source": [
    "def yelp_call(url_params, api_key):\n",
    "    # your code to make the yelp call\n",
    "    return data"
   ]
  },
  {
   "cell_type": "code",
   "execution_count": null,
   "metadata": {},
   "outputs": [],
   "source": [
    "def parse_results(results):\n",
    "    return parsed_results"
   ]
  },
  {
   "cell_type": "code",
   "execution_count": null,
   "metadata": {},
   "outputs": [],
   "source": [
    "def db_insert(cnx, cursor, parsed results):\n",
    "    # your code to insert and commit the results\n",
    "    # I would create the connection and cursor outside of this function and then pass it through"
   ]
  },
  {
   "cell_type": "code",
   "execution_count": null,
   "metadata": {},
   "outputs": [],
   "source": [
    "# create a variable  to keep track of which result you are in. \n",
    "cur = 0\n",
    "\n",
    "#set up a while loop to go through and grab the result \n",
    "while cur < num and cur < 1000:\n",
    "    #set the offset parameter to be where you currently are in the results \n",
    "    url_params['offset'] = cur\n",
    "    #make your API call with the new offset number\n",
    "    results = yelp_call(url_params, api_key)\n",
    "    \n",
    "    #after you get your results you can now use your function to parse those results\n",
    "    parsed_results = parse_results(results)\n",
    "    \n",
    "    # use your function to insert your parsed results into the db\n",
    "    db_insert(parsed_results)\n",
    "    #increment the counter by 50 to move on to the next results\n",
    "    cur += 50"
   ]
  },
  {
   "cell_type": "code",
   "execution_count": null,
   "metadata": {},
   "outputs": [],
   "source": []
  }
 ],
 "metadata": {
  "kernelspec": {
   "display_name": "Python 3",
   "language": "python",
   "name": "python3"
  },
  "language_info": {
   "codemirror_mode": {
    "name": "ipython",
    "version": 3
   },
   "file_extension": ".py",
   "mimetype": "text/x-python",
   "name": "python",
   "nbconvert_exporter": "python",
   "pygments_lexer": "ipython3",
   "version": "3.6.9"
  },
  "toc": {
   "base_numbering": 1,
   "nav_menu": {},
   "number_sections": false,
   "sideBar": true,
   "skip_h1_title": false,
   "title_cell": "Table of Contents",
   "title_sidebar": "Contents",
   "toc_cell": false,
   "toc_position": {},
   "toc_section_display": true,
   "toc_window_display": false
  }
 },
 "nbformat": 4,
 "nbformat_minor": 2
}

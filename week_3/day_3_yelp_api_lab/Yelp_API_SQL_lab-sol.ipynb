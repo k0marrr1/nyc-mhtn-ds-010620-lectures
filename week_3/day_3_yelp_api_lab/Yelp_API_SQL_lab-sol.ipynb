{
 "cells": [
  {
   "cell_type": "markdown",
   "metadata": {},
   "source": [
    "# Yelp API - Lab\n",
    "\n",
    "\n",
    "\n",
    "## Introduction \n",
    "\n",
    "Now that we've seen how the Yelp API works, it's time to put those API and SQL skills to work in order to do some basic business analysis! Taking things a step further, you'll also independently explore how to perform pagination in order to retrieve a full results set from the Yelp API!\n",
    "\n",
    "## Objectives\n",
    "\n",
    "You will be able to:\n",
    "* Create a DB on AWS to store information from Yelp about businesses\n",
    "* Create HTTP requests to get data from Yelp API\n",
    "* Parse HTTP responses and insert the information into your DB\n",
    "* Perform pagination to retrieve troves of data!\n",
    "* Write SQL queries to answer questions about your data \n",
    "\n",
    "Making an ETL pipeline (extract, transform, and load)"
   ]
  },
  {
   "cell_type": "markdown",
   "metadata": {},
   "source": [
    "## Problem Introduction\n",
    "\n",
    "You've now worked with some API calls, but we have yet to see how to retrieve a more complete dataset in a programmatic manner and combine it with our other data skills. In this lab you will get data from the Yelp API, store that data in a SQL Database on AWS, and write queries to answer follow-up questions. \n",
    "\n",
    "\n",
    "The search data is up to you -- the term & location are your call. \n",
    "\n",
    "\n",
    "### Outline:\n",
    "\n",
    "1. Determine which pieces of information you need to pull from the Yelp API. \n",
    "    * look at documentation\n",
    "    * figure out what you'll want to put into your sql database (there's a lot given, and you won't want it all)\n",
    "    * at the very least, you'll want the name and reviews of the business\n",
    "    * the business ID is one thing you'll need to be able to query Yelp for reviews\n",
    "\n",
    "\n",
    "2. Create a DB schema with 2 tables. One for the businesses and one for the reviews.\n",
    "    * Each review will have to be its own row, so you'll have think about 1NL -- each item in a column should be unique (or w/e the phrasing of that rule should be)\n",
    "\n",
    "\n",
    "3. Create Python functions to:\n",
    "  - Perform a search of businesses using pagination\n",
    "  - Parse the API response for specific data points\n",
    "  - Insert the data into your AWS DB\n",
    "  - consider the above functions \"helper functions\" for #4\n",
    "\n",
    "\n",
    "4. Use the functions above in a loop that will paginate over the results to retrieve all of the results.\n",
    "\n",
    "5. Create functions to:\n",
    "  - Retrieve the reviews data of one business\n",
    "  - Parse the reviews response for specific review data\n",
    "  - Insert the review data into the DB\n",
    "  \n",
    "\n",
    "6. Using SQL, query all of the business IDs. Using the 3 Python functions you've created, run your business IDs through a loop to get the reviews for each business and insert them into your DB.\n",
    "\n",
    "7. Write SQL queries to answer the following questions about your data.\n",
    "\n",
    "\n",
    "Bonus Steps:  \n",
    "- Place your helper functions in a package so that your final notebook only has the major steps listed.\n",
    "- Rewrite your business search functions to be able take an argument for the type of business you are searching for.\n",
    "- Add another group of businesses to your database.\n"
   ]
  },
  {
   "cell_type": "markdown",
   "metadata": {},
   "source": [
    " \n",
    "## SQL Questions:\n",
    "\n",
    "- What are the 5 businesses with the highest average ratings?\n",
    "- What are the 5 businesses with the lowest average ratings?\n",
    "- What is the average rating of restaurants that have a price label of one dollar sign? Two dollar signs? Three dollar signs? \n",
    "- How many businesses have a rating above 4.5?\n",
    "- How many businesses have a rating below 3?\n",
    "- Return the text of the oldest review in the table.\n",
    "- Return the overall rating of the business with the oldest review. \n",
    "- Find the highest rated business and return text of the newest review of the three.\n",
    "- Find the lowest rated business and return text of the newest review of the three.  "
   ]
  },
  {
   "cell_type": "markdown",
   "metadata": {},
   "source": [
    "## Part I - Set up the DB\n",
    "\n",
    "Start by reading SQL questions above to get an understanding of the data you will need. Then, read the documentation of Yelp API to understand what data you will receive in the response.  \n",
    "\n",
    "\n",
    "Now that you are familiar with the data, create your SQL queries to create the DB and the appropriate tables. "
   ]
  },
  {
   "cell_type": "code",
   "execution_count": 2,
   "metadata": {},
   "outputs": [
    {
     "ename": "ModuleNotFoundError",
     "evalue": "No module named 'yelperFunctions'",
     "output_type": "error",
     "traceback": [
      "\u001b[0;31m---------------------------------------------------------------------------\u001b[0m",
      "\u001b[0;31mModuleNotFoundError\u001b[0m                       Traceback (most recent call last)",
      "\u001b[0;32m<ipython-input-2-fffe9c5a8abe>\u001b[0m in \u001b[0;36m<module>\u001b[0;34m\u001b[0m\n\u001b[1;32m      1\u001b[0m \u001b[0mget_ipython\u001b[0m\u001b[0;34m(\u001b[0m\u001b[0;34m)\u001b[0m\u001b[0;34m.\u001b[0m\u001b[0mrun_line_magic\u001b[0m\u001b[0;34m(\u001b[0m\u001b[0;34m'load_ext'\u001b[0m\u001b[0;34m,\u001b[0m \u001b[0;34m'autoreload'\u001b[0m\u001b[0;34m)\u001b[0m\u001b[0;34m\u001b[0m\u001b[0;34m\u001b[0m\u001b[0m\n\u001b[1;32m      2\u001b[0m \u001b[0mget_ipython\u001b[0m\u001b[0;34m(\u001b[0m\u001b[0;34m)\u001b[0m\u001b[0;34m.\u001b[0m\u001b[0mrun_line_magic\u001b[0m\u001b[0;34m(\u001b[0m\u001b[0;34m'autoreload'\u001b[0m\u001b[0;34m,\u001b[0m \u001b[0;34m'2'\u001b[0m\u001b[0;34m)\u001b[0m\u001b[0;34m\u001b[0m\u001b[0;34m\u001b[0m\u001b[0m\n\u001b[0;32m----> 3\u001b[0;31m \u001b[0;32mimport\u001b[0m \u001b[0myelperFunctions\u001b[0m \u001b[0;32mas\u001b[0m \u001b[0myf\u001b[0m\u001b[0;34m\u001b[0m\u001b[0;34m\u001b[0m\u001b[0m\n\u001b[0m\u001b[1;32m      4\u001b[0m \u001b[0;34m\u001b[0m\u001b[0m\n\u001b[1;32m      5\u001b[0m \u001b[0mcnx_cur\u001b[0m \u001b[0;34m=\u001b[0m \u001b[0myf\u001b[0m\u001b[0;34m.\u001b[0m\u001b[0mcreate_cnx_cur\u001b[0m\u001b[0;34m(\u001b[0m\u001b[0;34m)\u001b[0m\u001b[0;34m\u001b[0m\u001b[0;34m\u001b[0m\u001b[0m\n",
      "\u001b[0;31mModuleNotFoundError\u001b[0m: No module named 'yelperFunctions'"
     ]
    }
   ],
   "source": [
    "%load_ext autoreload\n",
    "%autoreload 2\n",
    "import yelperFunctions as yf\n",
    "\n",
    "cnx_cur = yf.create_cnx_cur()\n",
    "cnx = cnx_cur[0]\n",
    "cursor = cnx_cur[1]"
   ]
  },
  {
   "cell_type": "code",
   "execution_count": 3,
   "metadata": {},
   "outputs": [
    {
     "ename": "NameError",
     "evalue": "name 'yf' is not defined",
     "output_type": "error",
     "traceback": [
      "\u001b[0;31m---------------------------------------------------------------------------\u001b[0m",
      "\u001b[0;31mNameError\u001b[0m                                 Traceback (most recent call last)",
      "\u001b[0;32m<ipython-input-3-223b7ad56581>\u001b[0m in \u001b[0;36m<module>\u001b[0;34m\u001b[0m\n\u001b[1;32m      2\u001b[0m \u001b[0mdb_name\u001b[0m \u001b[0;34m=\u001b[0m \u001b[0;34m'yelp'\u001b[0m\u001b[0;34m\u001b[0m\u001b[0;34m\u001b[0m\u001b[0m\n\u001b[1;32m      3\u001b[0m \u001b[0;34m\u001b[0m\u001b[0m\n\u001b[0;32m----> 4\u001b[0;31m \u001b[0myf\u001b[0m\u001b[0;34m.\u001b[0m\u001b[0mcreate_database\u001b[0m\u001b[0;34m(\u001b[0m\u001b[0mcursor\u001b[0m\u001b[0;34m,\u001b[0m \u001b[0mdb_name\u001b[0m\u001b[0;34m)\u001b[0m\u001b[0;34m\u001b[0m\u001b[0;34m\u001b[0m\u001b[0m\n\u001b[0m",
      "\u001b[0;31mNameError\u001b[0m: name 'yf' is not defined"
     ]
    }
   ],
   "source": [
    "## Create new DB \n",
    "db_name = 'yelp'\n",
    "\n",
    "yf.create_database(cursor, db_name)"
   ]
  },
  {
   "cell_type": "code",
   "execution_count": 4,
   "metadata": {},
   "outputs": [],
   "source": [
    "# Create a table for the Businesses\n",
    "# PK for businesses should be business' id\n",
    "\n",
    "TABLES = {}\n",
    "\n",
    "TABLES['businesses'] = (\n",
    "                        \"\"\"CREATE TABLE businesses (\n",
    "                                 businessId VARCHAR(25),\n",
    "                                 name TEXT,\n",
    "                                 price VARCHAR(5),\n",
    "                                 rating REAL,\n",
    "                                 total_reviews VARCHAR(6),\n",
    "                                 loc_address TEXT,\n",
    "                                 PRIMARY KEY (businessId)\n",
    "                                 ) ENGINE=InnoDB\"\"\")\n",
    "TABLES['reviews'] = (\n",
    "                        \"\"\"CREATE TABLE reviews (\n",
    "                                 reviewId VARCHAR(25),\n",
    "                                 businessId VARCHAR(25),\n",
    "                                 userId VARCHAR(25),\n",
    "                                 preview TEXT,\n",
    "                                 userRating REAL,\n",
    "                                 PRIMARY KEY (reviewId)\n",
    "                                 )ENGINE=InnoDB\"\"\")\n"
   ]
  },
  {
   "cell_type": "code",
   "execution_count": 4,
   "metadata": {},
   "outputs": [
    {
     "name": "stdout",
     "output_type": "stream",
     "text": [
      "Creating table businesses: already exists.\n",
      "Creating table reviews: already exists.\n"
     ]
    }
   ],
   "source": [
    "#This adds our tables to the database\n",
    "yf.add_tables_to_db(TABLES, cursor)\n",
    "\n",
    "yf.close_connection(cnx, cursor)\n"
   ]
  },
  {
   "cell_type": "markdown",
   "metadata": {},
   "source": [
    "## Part 2: Create ETL pipeline for the business data from the API"
   ]
  },
  {
   "cell_type": "code",
   "execution_count": 5,
   "metadata": {},
   "outputs": [],
   "source": [
    "# write a function to make a call to the API\n",
    "api_key = 'woG20FI2v3L2Pi39YfhvKMbEHg7-lffJ5fAdSnrDLx7ef6XG5CM4IPQcM7-9Qo-sUE5LQvb7LY5tkhWTXn4p0ky21xeZsOktSlN3vrnfC5tT5aA1dpynYkLhEAM6XXYx'\n",
    "url_params_businesses = {\n",
    "                            'term' : 'thai',\n",
    "                            'location': 'NYC',\n",
    "                            'limit' : 50\n",
    "                            }\n",
    "url_businesses = 'https://api.yelp.com/v3/businesses/search'\n",
    "\n",
    "url_reviews = 'https://api.yelp.com/v3/businesses/{id}/reviews'"
   ]
  },
  {
   "cell_type": "code",
   "execution_count": 6,
   "metadata": {},
   "outputs": [],
   "source": [
    "# initial call so that we know how many results there are in total\n",
    "tryresults = yf.yelp_call(url_businesses, api_key, url_params_businesses)\n"
   ]
  },
  {
   "cell_type": "code",
   "execution_count": 1,
   "metadata": {},
   "outputs": [
    {
     "ename": "NameError",
     "evalue": "name 'tryresults' is not defined",
     "output_type": "error",
     "traceback": [
      "\u001b[0;31m---------------------------------------------------------------------------\u001b[0m",
      "\u001b[0;31mNameError\u001b[0m                                 Traceback (most recent call last)",
      "\u001b[0;32m<ipython-input-1-574e4ca1f95e>\u001b[0m in \u001b[0;36m<module>\u001b[0;34m\u001b[0m\n\u001b[0;32m----> 1\u001b[0;31m \u001b[0mtryresults\u001b[0m\u001b[0;34m.\u001b[0m\u001b[0mhead\u001b[0m\u001b[0;34m\u001b[0m\u001b[0;34m\u001b[0m\u001b[0m\n\u001b[0m",
      "\u001b[0;31mNameError\u001b[0m: name 'tryresults' is not defined"
     ]
    }
   ],
   "source": [
    "tryresults"
   ]
  },
  {
   "cell_type": "code",
   "execution_count": 19,
   "metadata": {
    "scrolled": true
   },
   "outputs": [
    {
     "name": "stdout",
     "output_type": "stream",
     "text": [
      "2600 total matches found.\n",
      "Issue with:  {'id': 'I_YPy_YRtZFyWOSWs-gv4A', 'alias': 'luckyim-thai-new-york', 'name': 'Luckyim Thai', 'image_url': 'https://s3-media3.fl.yelpcdn.com/bphoto/aJ-lYs-cknkLwvq0m96yeg/o.jpg', 'is_closed': False, 'url': 'https://www.yelp.com/biz/luckyim-thai-new-york?adjust_creative=Q0o6644AtYBVMqGZUHAx-w&utm_campaign=yelp_api_v3&utm_medium=api_v3_business_search&utm_source=Q0o6644AtYBVMqGZUHAx-w', 'review_count': 159, 'categories': [{'alias': 'foodtrucks', 'title': 'Food Trucks'}, {'alias': 'thai', 'title': 'Thai'}, {'alias': 'catering', 'title': 'Caterers'}], 'rating': 4.0, 'coordinates': {'latitude': 40.7065887451172, 'longitude': -74.0096130371094}, 'transactions': [], 'price': '$', 'location': {'address1': '', 'address2': '', 'address3': '', 'city': 'New York', 'zip_code': '10005', 'country': 'US', 'state': 'NY', 'display_address': ['New York, NY 10005']}, 'phone': '+19293828537', 'display_phone': '(929) 382-8537', 'distance': 1282.8804242118174}\n",
      "Issue with:  {'id': 'I_YPy_YRtZFyWOSWs-gv4A', 'alias': 'luckyim-thai-new-york', 'name': 'Luckyim Thai', 'image_url': 'https://s3-media3.fl.yelpcdn.com/bphoto/aJ-lYs-cknkLwvq0m96yeg/o.jpg', 'is_closed': False, 'url': 'https://www.yelp.com/biz/luckyim-thai-new-york?adjust_creative=Q0o6644AtYBVMqGZUHAx-w&utm_campaign=yelp_api_v3&utm_medium=api_v3_business_search&utm_source=Q0o6644AtYBVMqGZUHAx-w', 'review_count': 159, 'categories': [{'alias': 'foodtrucks', 'title': 'Food Trucks'}, {'alias': 'thai', 'title': 'Thai'}, {'alias': 'catering', 'title': 'Caterers'}], 'rating': 4.0, 'coordinates': {'latitude': 40.7065887451172, 'longitude': -74.0096130371094}, 'transactions': [], 'price': '$', 'location': {'address1': '', 'address2': '', 'address3': '', 'city': 'New York', 'zip_code': '10005', 'country': 'US', 'state': 'NY', 'display_address': ['New York, NY 10005']}, 'phone': '+19293828537', 'display_phone': '(929) 382-8537', 'distance': 1282.8804242118174}\n"
     ]
    },
    {
     "ename": "NameError",
     "evalue": "name 'null' is not defined",
     "output_type": "error",
     "traceback": [
      "\u001b[0;31m---------------------------------------------------------------------------\u001b[0m",
      "\u001b[0;31mIndexError\u001b[0m                                Traceback (most recent call last)",
      "\u001b[0;32m~/courseMaterials/lecture_repo/week-2/yelperFunctions.py\u001b[0m in \u001b[0;36madd_businesses_to_db\u001b[0;34m(tryresults)\u001b[0m\n\u001b[1;32m     91\u001b[0m                             \u001b[0mtryresults\u001b[0m\u001b[0;34m[\u001b[0m\u001b[0;34m'businesses'\u001b[0m\u001b[0;34m]\u001b[0m\u001b[0;34m[\u001b[0m\u001b[0mi\u001b[0m\u001b[0;34m]\u001b[0m\u001b[0;34m[\u001b[0m\u001b[0;34m'rating'\u001b[0m\u001b[0;34m]\u001b[0m\u001b[0;34m,\u001b[0m\u001b[0;34m\u001b[0m\u001b[0;34m\u001b[0m\u001b[0m\n\u001b[0;32m---> 92\u001b[0;31m                             tryresults['businesses'][i]['location']['display_address'][0]+\", \"+tryresults['businesses'][i]['location']['display_address'][1])\n\u001b[0m\u001b[1;32m     93\u001b[0m \u001b[0;34m\u001b[0m\u001b[0m\n",
      "\u001b[0;31mIndexError\u001b[0m: list index out of range",
      "\nDuring handling of the above exception, another exception occurred:\n",
      "\u001b[0;31mIntegrityError\u001b[0m                            Traceback (most recent call last)",
      "\u001b[0;32m~/courseMaterials/lecture_repo/week-2/yelperFunctions.py\u001b[0m in \u001b[0;36madd_businesses_to_db\u001b[0;34m(tryresults)\u001b[0m\n\u001b[1;32m    109\u001b[0m                 \u001b[0mcursor\u001b[0m\u001b[0;34m.\u001b[0m\u001b[0mexecute\u001b[0m\u001b[0;34m(\u001b[0m\u001b[0;34m\"USE yelp\"\u001b[0m\u001b[0;34m)\u001b[0m \u001b[0;31m#gets us into the yelp db instance\u001b[0m\u001b[0;34m\u001b[0m\u001b[0;34m\u001b[0m\u001b[0m\n\u001b[0;32m--> 110\u001b[0;31m                 \u001b[0mcursor\u001b[0m\u001b[0;34m.\u001b[0m\u001b[0mexecute\u001b[0m\u001b[0;34m(\u001b[0m\u001b[0madd_business\u001b[0m\u001b[0;34m,\u001b[0m \u001b[0mbusiness_values\u001b[0m\u001b[0;34m)\u001b[0m\u001b[0;34m\u001b[0m\u001b[0;34m\u001b[0m\u001b[0m\n\u001b[0m\u001b[1;32m    111\u001b[0m             \u001b[0;32mexcept\u001b[0m\u001b[0;34m:\u001b[0m\u001b[0;34m\u001b[0m\u001b[0;34m\u001b[0m\u001b[0m\n",
      "\u001b[0;32m~/anaconda3/lib/python3.7/site-packages/mysql/connector/cursor.py\u001b[0m in \u001b[0;36mexecute\u001b[0;34m(self, operation, params, multi)\u001b[0m\n\u001b[1;32m    550\u001b[0m             \u001b[0;32mtry\u001b[0m\u001b[0;34m:\u001b[0m\u001b[0;34m\u001b[0m\u001b[0;34m\u001b[0m\u001b[0m\n\u001b[0;32m--> 551\u001b[0;31m                 \u001b[0mself\u001b[0m\u001b[0;34m.\u001b[0m\u001b[0m_handle_result\u001b[0m\u001b[0;34m(\u001b[0m\u001b[0mself\u001b[0m\u001b[0;34m.\u001b[0m\u001b[0m_connection\u001b[0m\u001b[0;34m.\u001b[0m\u001b[0mcmd_query\u001b[0m\u001b[0;34m(\u001b[0m\u001b[0mstmt\u001b[0m\u001b[0;34m)\u001b[0m\u001b[0;34m)\u001b[0m\u001b[0;34m\u001b[0m\u001b[0;34m\u001b[0m\u001b[0m\n\u001b[0m\u001b[1;32m    552\u001b[0m             \u001b[0;32mexcept\u001b[0m \u001b[0merrors\u001b[0m\u001b[0;34m.\u001b[0m\u001b[0mInterfaceError\u001b[0m\u001b[0;34m:\u001b[0m\u001b[0;34m\u001b[0m\u001b[0;34m\u001b[0m\u001b[0m\n",
      "\u001b[0;32m~/anaconda3/lib/python3.7/site-packages/mysql/connector/connection.py\u001b[0m in \u001b[0;36mcmd_query\u001b[0;34m(self, query, raw, buffered, raw_as_string)\u001b[0m\n\u001b[1;32m    489\u001b[0m             \u001b[0mquery\u001b[0m \u001b[0;34m=\u001b[0m \u001b[0mquery\u001b[0m\u001b[0;34m.\u001b[0m\u001b[0mencode\u001b[0m\u001b[0;34m(\u001b[0m\u001b[0;34m'utf-8'\u001b[0m\u001b[0;34m)\u001b[0m\u001b[0;34m\u001b[0m\u001b[0;34m\u001b[0m\u001b[0m\n\u001b[0;32m--> 490\u001b[0;31m         \u001b[0mresult\u001b[0m \u001b[0;34m=\u001b[0m \u001b[0mself\u001b[0m\u001b[0;34m.\u001b[0m\u001b[0m_handle_result\u001b[0m\u001b[0;34m(\u001b[0m\u001b[0mself\u001b[0m\u001b[0;34m.\u001b[0m\u001b[0m_send_cmd\u001b[0m\u001b[0;34m(\u001b[0m\u001b[0mServerCmd\u001b[0m\u001b[0;34m.\u001b[0m\u001b[0mQUERY\u001b[0m\u001b[0;34m,\u001b[0m \u001b[0mquery\u001b[0m\u001b[0;34m)\u001b[0m\u001b[0;34m)\u001b[0m\u001b[0;34m\u001b[0m\u001b[0;34m\u001b[0m\u001b[0m\n\u001b[0m\u001b[1;32m    491\u001b[0m \u001b[0;34m\u001b[0m\u001b[0m\n",
      "\u001b[0;32m~/anaconda3/lib/python3.7/site-packages/mysql/connector/connection.py\u001b[0m in \u001b[0;36m_handle_result\u001b[0;34m(self, packet)\u001b[0m\n\u001b[1;32m    394\u001b[0m         \u001b[0;32melif\u001b[0m \u001b[0mpacket\u001b[0m\u001b[0;34m[\u001b[0m\u001b[0;36m4\u001b[0m\u001b[0;34m]\u001b[0m \u001b[0;34m==\u001b[0m \u001b[0;36m255\u001b[0m\u001b[0;34m:\u001b[0m\u001b[0;34m\u001b[0m\u001b[0;34m\u001b[0m\u001b[0m\n\u001b[0;32m--> 395\u001b[0;31m             \u001b[0;32mraise\u001b[0m \u001b[0merrors\u001b[0m\u001b[0;34m.\u001b[0m\u001b[0mget_exception\u001b[0m\u001b[0;34m(\u001b[0m\u001b[0mpacket\u001b[0m\u001b[0;34m)\u001b[0m\u001b[0;34m\u001b[0m\u001b[0;34m\u001b[0m\u001b[0m\n\u001b[0m\u001b[1;32m    396\u001b[0m \u001b[0;34m\u001b[0m\u001b[0m\n",
      "\u001b[0;31mIntegrityError\u001b[0m: 1062 (23000): Duplicate entry 'I_YPy_YRtZFyWOSWs-gv4A' for key 'PRIMARY'",
      "\nDuring handling of the above exception, another exception occurred:\n",
      "\u001b[0;31mNameError\u001b[0m                                 Traceback (most recent call last)",
      "\u001b[0;32m<ipython-input-19-ea6c4b3ff71a>\u001b[0m in \u001b[0;36m<module>\u001b[0;34m\u001b[0m\n\u001b[1;32m      7\u001b[0m \u001b[0mcursor\u001b[0m \u001b[0;34m=\u001b[0m \u001b[0mcnx_cur\u001b[0m\u001b[0;34m[\u001b[0m\u001b[0;36m1\u001b[0m\u001b[0;34m]\u001b[0m\u001b[0;34m\u001b[0m\u001b[0;34m\u001b[0m\u001b[0m\n\u001b[1;32m      8\u001b[0m \u001b[0;34m\u001b[0m\u001b[0m\n\u001b[0;32m----> 9\u001b[0;31m \u001b[0myf\u001b[0m\u001b[0;34m.\u001b[0m\u001b[0mall_results\u001b[0m\u001b[0;34m(\u001b[0m\u001b[0mtryresults\u001b[0m\u001b[0;34m,\u001b[0m \u001b[0murl_businesses\u001b[0m\u001b[0;34m,\u001b[0m \u001b[0mapi_key\u001b[0m\u001b[0;34m,\u001b[0m \u001b[0murl_params_businesses\u001b[0m\u001b[0;34m)\u001b[0m\u001b[0;34m\u001b[0m\u001b[0;34m\u001b[0m\u001b[0m\n\u001b[0m\u001b[1;32m     10\u001b[0m \u001b[0;34m\u001b[0m\u001b[0m\n\u001b[1;32m     11\u001b[0m \u001b[0myf\u001b[0m\u001b[0;34m.\u001b[0m\u001b[0mclose_connection\u001b[0m\u001b[0;34m(\u001b[0m\u001b[0mcnx\u001b[0m\u001b[0;34m,\u001b[0m \u001b[0mcursor\u001b[0m\u001b[0;34m)\u001b[0m\u001b[0;34m\u001b[0m\u001b[0;34m\u001b[0m\u001b[0m\n",
      "\u001b[0;32m~/courseMaterials/lecture_repo/week-2/yelperFunctions.py\u001b[0m in \u001b[0;36mall_results\u001b[0;34m(tryresults, url, api_key, url_params)\u001b[0m\n\u001b[1;32m    135\u001b[0m         \u001b[0murl_params\u001b[0m\u001b[0;34m[\u001b[0m\u001b[0;34m'offset'\u001b[0m\u001b[0;34m]\u001b[0m \u001b[0;34m=\u001b[0m \u001b[0mcur\u001b[0m\u001b[0;34m\u001b[0m\u001b[0;34m\u001b[0m\u001b[0m\n\u001b[1;32m    136\u001b[0m         \u001b[0mresults\u001b[0m \u001b[0;34m=\u001b[0m \u001b[0myelp_call\u001b[0m\u001b[0;34m(\u001b[0m\u001b[0murl\u001b[0m\u001b[0;34m,\u001b[0m \u001b[0mapi_key\u001b[0m\u001b[0;34m,\u001b[0m \u001b[0murl_params\u001b[0m\u001b[0;34m)\u001b[0m\u001b[0;34m\u001b[0m\u001b[0;34m\u001b[0m\u001b[0m\n\u001b[0;32m--> 137\u001b[0;31m         \u001b[0madd_businesses_to_db\u001b[0m\u001b[0;34m(\u001b[0m\u001b[0mresults\u001b[0m\u001b[0;34m)\u001b[0m\u001b[0;34m\u001b[0m\u001b[0;34m\u001b[0m\u001b[0m\n\u001b[0m\u001b[1;32m    138\u001b[0m         \u001b[0mtime\u001b[0m\u001b[0;34m.\u001b[0m\u001b[0msleep\u001b[0m\u001b[0;34m(\u001b[0m\u001b[0;36m1\u001b[0m\u001b[0;34m)\u001b[0m \u001b[0;31m#Wait a second\u001b[0m\u001b[0;34m\u001b[0m\u001b[0;34m\u001b[0m\u001b[0m\n\u001b[1;32m    139\u001b[0m         \u001b[0mcur\u001b[0m \u001b[0;34m+=\u001b[0m \u001b[0;36m50\u001b[0m \u001b[0;31m# count to go to next 50 results\u001b[0m\u001b[0;34m\u001b[0m\u001b[0;34m\u001b[0m\u001b[0m\n",
      "\u001b[0;32m~/courseMaterials/lecture_repo/week-2/yelperFunctions.py\u001b[0m in \u001b[0;36madd_businesses_to_db\u001b[0;34m(tryresults)\u001b[0m\n\u001b[1;32m    115\u001b[0m                                \u001b[0mtryresults\u001b[0m\u001b[0;34m[\u001b[0m\u001b[0;34m'businesses'\u001b[0m\u001b[0;34m]\u001b[0m\u001b[0;34m[\u001b[0m\u001b[0mi\u001b[0m\u001b[0;34m]\u001b[0m\u001b[0;34m[\u001b[0m\u001b[0;34m'price'\u001b[0m\u001b[0;34m]\u001b[0m\u001b[0;34m,\u001b[0m\u001b[0;34m\u001b[0m\u001b[0;34m\u001b[0m\u001b[0m\n\u001b[1;32m    116\u001b[0m                                \u001b[0mtryresults\u001b[0m\u001b[0;34m[\u001b[0m\u001b[0;34m'businesses'\u001b[0m\u001b[0;34m]\u001b[0m\u001b[0;34m[\u001b[0m\u001b[0mi\u001b[0m\u001b[0;34m]\u001b[0m\u001b[0;34m[\u001b[0m\u001b[0;34m'rating'\u001b[0m\u001b[0;34m]\u001b[0m\u001b[0;34m,\u001b[0m\u001b[0;34m\u001b[0m\u001b[0;34m\u001b[0m\u001b[0m\n\u001b[0;32m--> 117\u001b[0;31m                                null)\n\u001b[0m\u001b[1;32m    118\u001b[0m                 \u001b[0mcursor\u001b[0m\u001b[0;34m.\u001b[0m\u001b[0mexecute\u001b[0m\u001b[0;34m(\u001b[0m\u001b[0;34m\"USE yelp\"\u001b[0m\u001b[0;34m)\u001b[0m \u001b[0;31m#gets us into the yelp db instance\u001b[0m\u001b[0;34m\u001b[0m\u001b[0;34m\u001b[0m\u001b[0m\n\u001b[1;32m    119\u001b[0m                 \u001b[0mcursor\u001b[0m\u001b[0;34m.\u001b[0m\u001b[0mexecute\u001b[0m\u001b[0;34m(\u001b[0m\u001b[0madd_business\u001b[0m\u001b[0;34m,\u001b[0m \u001b[0mbusiness_values\u001b[0m\u001b[0;34m)\u001b[0m\u001b[0;34m\u001b[0m\u001b[0;34m\u001b[0m\u001b[0m\n",
      "\u001b[0;31mNameError\u001b[0m: name 'null' is not defined"
     ]
    }
   ],
   "source": [
    "# write a function to parse the API response \n",
    "# so that you can easily insert the data in to the DB\n",
    "\n",
    "#creates new cursor for this\n",
    "cnx_cur = yf.create_cnx_cur()\n",
    "cnx = cnx_cur[0]\n",
    "cursor = cnx_cur[1]\n",
    "\n",
    "yf.all_results(tryresults, url_businesses, api_key, url_params_businesses)\n",
    "\n",
    "yf.close_connection(cnx, cursor)"
   ]
  },
  {
   "cell_type": "markdown",
   "metadata": {},
   "source": [
    "## Part 3: Create ETL pipeline for the review data from the API"
   ]
  },
  {
   "cell_type": "code",
   "execution_count": null,
   "metadata": {},
   "outputs": [],
   "source": [
    "# write a query to pull back all of the business ids \n",
    "# you will need these ids to pull back the reviews for each restaurant\n",
    "cnx_cur = yf.create_cnx_cur()\n",
    "cnx = cnx_cur[0]\n",
    "cursor = cnx_cur[1]\n",
    "\n",
    "cursor.execute(\"\"\"SELECT businessId FROM yelp.businesses\"\"\")\n",
    "businessIdList = [x[0] for x in cursor.fetchall()]\n",
    "\n",
    "yf.close_connection(cnx, cursor)"
   ]
  },
  {
   "cell_type": "code",
   "execution_count": null,
   "metadata": {},
   "outputs": [],
   "source": [
    "# write a function that take a business id \n",
    "# and makes a call to the API for reivews\n",
    "# then parse out the relevant information\n",
    "\n",
    "url_reviews = 'https://api.yelp.com/v3/businesses/{}/reviews'\n",
    "\n",
    "results = yf.get_reviews(businessIdList, url_reviews, api_key) #this takes a while! don't stop it!"
   ]
  },
  {
   "cell_type": "code",
   "execution_count": null,
   "metadata": {},
   "outputs": [],
   "source": [
    "yf.add_reviews_to_db(businessIdList, url_reviews, api_key)"
   ]
  },
  {
   "cell_type": "markdown",
   "metadata": {},
   "source": [
    "## Part 4: Write SQL queries that will answer the questions posed. "
   ]
  },
  {
   "cell_type": "markdown",
   "metadata": {},
   "source": [
    "- What are the 5 businesses with the highest average ratings?\n"
   ]
  },
  {
   "cell_type": "code",
   "execution_count": 5,
   "metadata": {},
   "outputs": [
    {
     "ename": "NameError",
     "evalue": "name 'yf' is not defined",
     "output_type": "error",
     "traceback": [
      "\u001b[0;31m---------------------------------------------------------------------------\u001b[0m",
      "\u001b[0;31mNameError\u001b[0m                                 Traceback (most recent call last)",
      "\u001b[0;32m<ipython-input-5-f9204f79434e>\u001b[0m in \u001b[0;36m<module>\u001b[0;34m\u001b[0m\n\u001b[1;32m      1\u001b[0m \u001b[0;32mimport\u001b[0m \u001b[0msqlite3\u001b[0m\u001b[0;34m,\u001b[0m \u001b[0mpandas\u001b[0m \u001b[0;32mas\u001b[0m \u001b[0mpd\u001b[0m\u001b[0;34m\u001b[0m\u001b[0;34m\u001b[0m\u001b[0m\n\u001b[0;32m----> 2\u001b[0;31m \u001b[0mcnx_cur\u001b[0m \u001b[0;34m=\u001b[0m \u001b[0myf\u001b[0m\u001b[0;34m.\u001b[0m\u001b[0mcreate_cnx_cur\u001b[0m\u001b[0;34m(\u001b[0m\u001b[0;34m)\u001b[0m\u001b[0;34m\u001b[0m\u001b[0;34m\u001b[0m\u001b[0m\n\u001b[0m\u001b[1;32m      3\u001b[0m \u001b[0mcnx\u001b[0m \u001b[0;34m=\u001b[0m \u001b[0mcnx_cur\u001b[0m\u001b[0;34m[\u001b[0m\u001b[0;36m0\u001b[0m\u001b[0;34m]\u001b[0m\u001b[0;34m\u001b[0m\u001b[0;34m\u001b[0m\u001b[0m\n\u001b[1;32m      4\u001b[0m \u001b[0mcursor\u001b[0m \u001b[0;34m=\u001b[0m \u001b[0mcnx_cur\u001b[0m\u001b[0;34m[\u001b[0m\u001b[0;36m1\u001b[0m\u001b[0;34m]\u001b[0m\u001b[0;34m\u001b[0m\u001b[0;34m\u001b[0m\u001b[0m\n\u001b[1;32m      5\u001b[0m \u001b[0;34m\u001b[0m\u001b[0m\n",
      "\u001b[0;31mNameError\u001b[0m: name 'yf' is not defined"
     ]
    }
   ],
   "source": [
    "import sqlite3, pandas as pd\n",
    "cnx_cur = yf.create_cnx_cur()\n",
    "cnx = cnx_cur[0]\n",
    "cursor = cnx_cur[1]\n",
    "\n",
    "\n",
    "# What are the 5 businesses with the highest average ratings?\n",
    "cursor.execute(\"\"\"SELECT name, rating FROM yelp.businesses \n",
    "                        ORDER BY rating DESC\n",
    "                        LIMIT 5\"\"\")\n",
    "\n",
    "df1 = pd.DataFrame(cursor.fetchall())\n",
    "df1.columns = [x[0] for x in cursor.description]\n",
    "df1"
   ]
  },
  {
   "cell_type": "markdown",
   "metadata": {},
   "source": [
    "- What are the 5 businesses with the lowest average ratings?\n"
   ]
  },
  {
   "cell_type": "code",
   "execution_count": null,
   "metadata": {},
   "outputs": [],
   "source": [
    "# What are the 5 businesses with the lowest average ratings?\n",
    "cursor.execute(\"\"\"SELECT name, rating FROM yelp.businesses \n",
    "                        ORDER BY rating\n",
    "                        LIMIT 5\"\"\")\n",
    "\n",
    "df2 = pd.DataFrame(cursor.fetchall())\n",
    "df2.columns = [x[0] for x in cursor.description]\n",
    "df2"
   ]
  },
  {
   "cell_type": "markdown",
   "metadata": {},
   "source": [
    "- What is the average rating of restaurants that have a price label of one dollar sign? Two dollar signs? Three dollar signs? \n"
   ]
  },
  {
   "cell_type": "code",
   "execution_count": null,
   "metadata": {},
   "outputs": [],
   "source": [
    "# What is the average rating of restaurants that have a price label of one dollar sign? Two dollar signs? Three dollar signs?\n",
    "cursor.execute(\"\"\"SELECT AVG(rating), price FROM yelp.businesses \n",
    "                        GROUP BY price\n",
    "                        ORDER BY price\n",
    "                        \"\"\")\n",
    "\n",
    "df3 = pd.DataFrame(cursor.fetchall())\n",
    "df3.columns = [x[0] for x in cursor.description]\n",
    "df3\n",
    "\n"
   ]
  },
  {
   "cell_type": "markdown",
   "metadata": {},
   "source": [
    "- How many businesses have a rating greater than or  4.5?\n"
   ]
  },
  {
   "cell_type": "code",
   "execution_count": null,
   "metadata": {},
   "outputs": [],
   "source": [
    "# How many businesses have a rating above 4.5? (just > gives none -- no restaurants with > 4.5 rating)\n",
    "cursor.execute(\"\"\"SELECT count(rating) FROM yelp.businesses \n",
    "                        WHERE rating >= 4.5\n",
    "                        \"\"\")\n",
    "\n",
    "df4 = pd.DataFrame(cursor.fetchall())\n",
    "df4.columns = [x[0] for x in cursor.description]\n",
    "df4"
   ]
  },
  {
   "cell_type": "markdown",
   "metadata": {},
   "source": [
    "- How many businesses have a rating less than 3?\n"
   ]
  },
  {
   "cell_type": "code",
   "execution_count": null,
   "metadata": {},
   "outputs": [],
   "source": [
    "# How many businesses have a rating below 3?\n",
    "cursor.execute(\"\"\"SELECT count(rating) FROM yelp.businesses \n",
    "                        WHERE rating <= 3\n",
    "                        \"\"\")\n",
    "\n",
    "df5 = pd.DataFrame(cursor.fetchall())\n",
    "df5.columns = [x[0] for x in cursor.description]\n",
    "df5"
   ]
  },
  {
   "cell_type": "markdown",
   "metadata": {},
   "source": [
    "- Return the text of the reviews for the most reviewed restaurant. \n"
   ]
  },
  {
   "cell_type": "code",
   "execution_count": null,
   "metadata": {},
   "outputs": [],
   "source": [
    "# Return the text of the oldest review in the table.\n",
    "cursor.execute(\"\"\"SELECT preview FROM yelp.reviews \n",
    "                    WHERE businessId = (SELECT businessId from businesses\n",
    "                    WHERE (total_reviews) = (\n",
    "                      SELECT MAX(total_reviews)  \n",
    "                      FROM business\n",
    "                    ))\n",
    "                        \"\"\")\n",
    "\n",
    "df6 = pd.DataFrame(cursor.fetchall())\n",
    "df6.columns = [x[0] for x in cursor.description]\n",
    "df6"
   ]
  },
  {
   "cell_type": "markdown",
   "metadata": {},
   "source": [
    "- Return the name of the business with the most recent review. \n"
   ]
  },
  {
   "cell_type": "code",
   "execution_count": null,
   "metadata": {},
   "outputs": [],
   "source": [
    "# Return the overall rating of the business with the oldest review.\n",
    "# tried to do subquery, does not support LIMIT in subquery\n",
    "# cursor.execute(\"\"\"SELECT rating, name FROM yelp.businesses\n",
    "#                         WHERE businessId IN \n",
    "#                              (SELECT businessId FROM yelp.reviews\n",
    "#                                 ORDER BY time_stamp\n",
    "#                                 LIMIT 1)\n",
    "#                         \"\"\")\n",
    "\n",
    "cursor.execute(\"\"\"SELECT rating, name, time_stamp FROM yelp.businesses\n",
    "                        JOIN yelp.reviews USING(businessId)\n",
    "                        ORDER BY time_stamp\n",
    "                        LIMIT 1\n",
    "                        \"\"\")\n",
    "\n",
    "\n",
    "df7 = pd.DataFrame(cursor.fetchall())\n",
    "df7.columns = [x[0] for x in cursor.description]\n",
    "df7"
   ]
  },
  {
   "cell_type": "markdown",
   "metadata": {},
   "source": [
    "- Find the highest rated business and return text of the most recent review. If multiple business have the same rating, select the restaurant with the most reviews. \n"
   ]
  },
  {
   "cell_type": "code",
   "execution_count": null,
   "metadata": {},
   "outputs": [],
   "source": [
    "# Find the highest rated business and return text of the newest review of the three.\n",
    "# too many 4.5s! this only retrieves the newest of ALL 4.5 rated restaurants\n",
    "cursor.execute(\"\"\"SELECT r.preview, b.name, r.time_stamp, rating FROM yelp.businesses b\n",
    "                    JOIN yelp.reviews r USING(businessId)\n",
    "                    ORDER BY rating DESC, time_stamp DESC\n",
    "                    LIMIT 1\n",
    "                        \"\"\")\n",
    "\n",
    "df8 = pd.DataFrame(cursor.fetchall())\n",
    "df8.columns = [x[0] for x in cursor.description]\n",
    "df8"
   ]
  },
  {
   "cell_type": "markdown",
   "metadata": {},
   "source": [
    "- Find the lowest rated business and return text of the most recent review.  If multiple business have the same rating, select the restaurant with the least reviews."
   ]
  },
  {
   "cell_type": "code",
   "execution_count": null,
   "metadata": {},
   "outputs": [],
   "source": [
    "# Find the lowest rated business and return text of the newest review of the three.\n",
    "cursor.execute(\"\"\"SELECT r.preview, b.name, r.time_stamp FROM yelp.businesses b\n",
    "                    JOIN yelp.reviews r USING(businessId)\n",
    "                    ORDER BY rating ASC, time_stamp DESC\n",
    "                    LIMIT 1\n",
    "                        \"\"\")\n",
    "\n",
    "\n",
    "df8 = pd.DataFrame(cursor.fetchall())\n",
    "df8.columns = [x[0] for x in cursor.description]\n",
    "df8\n",
    "\n"
   ]
  },
  {
   "cell_type": "code",
   "execution_count": null,
   "metadata": {},
   "outputs": [],
   "source": [
    "cnx.commit()\n",
    "yf.close_connection(cnx, cursor)"
   ]
  },
  {
   "cell_type": "markdown",
   "metadata": {},
   "source": [
    "###  Pagination\n",
    "\n",
    "Returning to the Yelp API, the [documentation](https://www.yelp.com/developers/documentation/v3/business_search) also provides us details regarding the API limits. These often include details about the number of requests a user is allowed to make within a specified time limit and the maximum number of results to be returned. In this case, we are told that any request has a maximum of 50 results per request and defaults to 20. Furthermore, any search will be limited to a total of 1000 results. To retrieve all 1000 of these results, we would have to page through the results piece by piece, retriving 50 at a time. Processes such as these are often refered to as pagination.\n",
    "\n",
    "Now that you have an initial response, you can examine the contents of the json container. For example, you might start with ```response.json().keys()```. Here, you'll see a key for `'total'`, which tells you the full number of matching results given your query parameters. Write a loop (or ideally a function) which then makes successive API calls using the offset parameter to retrieve all of the results (or 5000 for a particularly large result set) for the original query. As you do this, be mindful of how you store the data. \n",
    "\n",
    "**Note: be mindful of the API rate limits. You can only make 5000 requests per day, and APIs can make requests too fast. Start prototyping small before running a loop that could be faulty. You can also use time.sleep(n) to add delays. For more details see https://www.yelp.com/developers/documentation/v3/rate_limiting.**"
   ]
  },
  {
   "cell_type": "markdown",
   "metadata": {},
   "source": [
    "***Below is sample code that you can use to help you deal with the pagination parameter.***"
   ]
  },
  {
   "cell_type": "code",
   "execution_count": null,
   "metadata": {},
   "outputs": [],
   "source": [
    "# Your code here; use a function or loop to retrieve all the results from your original request\n",
    "import time\n",
    "\n",
    "def yelp_call(url_params, api_key):\n",
    "    url = 'https://api.yelp.com/v3/businesses/search'\n",
    "    headers = {'Authorization': 'Bearer {}'.format(api_key)}\n",
    "    response = requests.get(url, headers=headers, params=url_params)\n",
    "    \n",
    "    data = response.json()['businesses']\n",
    "    return data\n",
    "\n",
    "def all_results(url_params, api_key):\n",
    "    num = response.json()['total']\n",
    "    print('{} total matches found.'.format(num))\n",
    "    cur = 0\n",
    "    results = []\n",
    "    while cur < num and cur < 1000:\n",
    "        # This gets you to where you should be in the data, rather than just keeping grabbing\n",
    "        # the first 50 over and over again\n",
    "        url_params['offset'] = cur \n",
    "        results.append(yelp_call(url_params, api_key))\n",
    "        time.sleep(1) #Wait a second\n",
    "        cur += 50\n",
    "    return df\n",
    "    # Note: you could also have your function parse and then insert into database rather \n",
    "    # than appending it to results\n",
    "\n",
    "term = 'pizza'\n",
    "location = 'Astoria NY'\n",
    "url_params = {  'term': term.replace(' ', '+'),\n",
    "                'location': location.replace(' ', '+'),\n",
    "                'limit' : 50\n",
    "             }\n",
    "df = all_results(url_params, api_key)\n",
    "print(len(df))\n",
    "df.head()"
   ]
  },
  {
   "cell_type": "markdown",
   "metadata": {},
   "source": [
    "### Sample SQL Query \n",
    "\n",
    "Below is a SQL query to create a table.  Additionally here is a link to create a table with a foreign key.\n",
    "\n",
    "http://www.mysqltutorial.org/mysql-foreign-key/\n",
    "\n",
    "```CREATE TABLE IF NOT EXISTS tasks (\n",
    "    task_id INT AUTO_INCREMENT,\n",
    "    title VARCHAR(255) NOT NULL,\n",
    "    start_date DATE,\n",
    "    due_date DATE,\n",
    "    status TINYINT NOT NULL,\n",
    "    priority TINYINT NOT NULL,\n",
    "    description TEXT,\n",
    "    PRIMARY KEY (task_id)\n",
    ")  ENGINE=INNODB;```"
   ]
  },
  {
   "cell_type": "code",
   "execution_count": null,
   "metadata": {},
   "outputs": [],
   "source": []
  }
 ],
 "metadata": {
  "kernelspec": {
   "display_name": "Python 3",
   "language": "python",
   "name": "python3"
  },
  "language_info": {
   "codemirror_mode": {
    "name": "ipython",
    "version": 3
   },
   "file_extension": ".py",
   "mimetype": "text/x-python",
   "name": "python",
   "nbconvert_exporter": "python",
   "pygments_lexer": "ipython3",
   "version": "3.6.9"
  },
  "toc": {
   "base_numbering": 1,
   "nav_menu": {},
   "number_sections": false,
   "sideBar": true,
   "skip_h1_title": false,
   "title_cell": "Table of Contents",
   "title_sidebar": "Contents",
   "toc_cell": false,
   "toc_position": {},
   "toc_section_display": true,
   "toc_window_display": false
  }
 },
 "nbformat": 4,
 "nbformat_minor": 2
}
